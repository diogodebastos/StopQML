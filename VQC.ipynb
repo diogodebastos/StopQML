{
 "cells": [
  {
   "cell_type": "markdown",
   "id": "adjusted-collectible",
   "metadata": {},
   "source": [
    "# Stop 4-body decay search using QML"
   ]
  },
  {
   "cell_type": "markdown",
   "id": "removed-communication",
   "metadata": {},
   "source": [
    "## Software needed"
   ]
  },
  {
   "cell_type": "markdown",
   "id": "internal-punch",
   "metadata": {},
   "source": [
    "%%capture\n",
    "!pip install uproot awkward\n",
    "!pip install pennylane\n",
    "!pip install matplotlib\n",
    "!pip install sklearn\n",
    "!pip install pandas"
   ]
  },
  {
   "cell_type": "markdown",
   "id": "caring-joining",
   "metadata": {},
   "source": [
    "## Setup"
   ]
  },
  {
   "cell_type": "code",
   "execution_count": 1,
   "id": "turned-exclusive",
   "metadata": {},
   "outputs": [],
   "source": [
    "import random\n",
    "import uproot\n",
    "import numpy\n",
    "\n",
    "from itertools import chain\n",
    "\n",
    "import pennylane as qml\n",
    "from pennylane import numpy as np\n",
    "\n",
    "from sklearn import decomposition\n",
    "from sklearn import metrics as metrics\n",
    "from sklearn.preprocessing import minmax_scale\n",
    "from sklearn.model_selection import train_test_split\n",
    "\n",
    "import pandas as pd\n",
    "\n",
    "import matplotlib.pyplot as plt"
   ]
  },
  {
   "cell_type": "markdown",
   "id": "piano-substitute",
   "metadata": {},
   "source": [
    "## Data"
   ]
  },
  {
   "cell_type": "code",
   "execution_count": 2,
   "id": "other-angola",
   "metadata": {},
   "outputs": [],
   "source": [
    "path = \"/Users/ketchum/Desktop/STOP_nTuples/\"\n",
    "#path = \"/Volumes/Samsung_T5/STOP_nTuples/\"\n",
    "trainPath = \"nTuples17_nanoAOD_v2021-10-15_train/\"\n",
    "testPath = \"nTuples17_nanoAOD_v2021-10-15_test/\"\n",
    "#sgName = \"T2DegStop_deltaM30\"\n",
    "sgName = \"T2DegStop_550_520\"\n",
    "bkName = \"WJetsToLNu_HT200to400\"\n",
    "treename=\"bdttree\"\n",
    "\n",
    "myFeatures = [\"Jet1Pt\", \"Met\", \"mt\", \"LepPt\", \"LepEta\", \"LepChg\", \"HT\", \"NbLoose\",\"Njet\", \"JetHBpt\", \"DrJetHBLep\", \"JetHBDeepCSV\"]\n",
    "branches = [\"XS\",\"Nevt\",\"Event\",\"weight\"]\n",
    "branches.extend(myFeatures)\n",
    "preSel = \"(LepPt < 30) & (Met > 280) & (HT > 200) & (Jet1Pt > 110) & ((DPhiJet1Jet2 < 2.5) | (Jet2Pt < 60)) & (isTight == 1)\""
   ]
  },
  {
   "cell_type": "code",
   "execution_count": 3,
   "id": "polished-occurrence",
   "metadata": {},
   "outputs": [],
   "source": [
    "sgTree = uproot.open(path + trainPath + sgName+\".root:\"+treename)\n",
    "bkTree = uproot.open(path + trainPath + bkName+\".root:\"+treename)\n",
    "\n",
    "sgDict = sgTree.arrays(branches,preSel,library=\"np\")\n",
    "bkDict = bkTree.arrays(branches,preSel,library=\"np\")"
   ]
  },
  {
   "cell_type": "code",
   "execution_count": 4,
   "id": "coated-dress",
   "metadata": {},
   "outputs": [],
   "source": [
    "sgJet1Pt = sgDict[\"Jet1Pt\"]\n",
    "sgMet = sgDict[\"Met\"]\n",
    "sgmt = sgDict[\"mt\"]\n",
    "\n",
    "bkJet1Pt = bkDict[\"Jet1Pt\"]\n",
    "bkMet = bkDict[\"Met\"]\n",
    "bkmt = bkDict[\"mt\"]"
   ]
  },
  {
   "cell_type": "code",
   "execution_count": 5,
   "id": "oriented-respondent",
   "metadata": {},
   "outputs": [
    {
     "data": {
      "image/png": "[encoded data removed]",
      "text/plain": [
       "<Figure size 432x288 with 1 Axes>"
      ]
     },
     "metadata": {
      "needs_background": "light"
     },
     "output_type": "display_data"
    }
   ],
   "source": [
    "plt.hist(sgmt, 100, density=True, color = \"blue\", alpha=0.25)\n",
    "plt.hist(bkmt, 100, density=True, color = \"red\" , alpha=0.25) #histtype='step'\n",
    "plt.xlim([0, 200])\n",
    "plt.show()"
   ]
  },
  {
   "cell_type": "code",
   "execution_count": 6,
   "id": "removable-timothy",
   "metadata": {},
   "outputs": [
    {
     "data": {
      "image/png": "[encoded data removed]",
      "text/plain": [
       "<Figure size 432x288 with 12 Axes>"
      ]
     },
     "metadata": {
      "needs_background": "light"
     },
     "output_type": "display_data"
    }
   ],
   "source": [
    "fig, axs = plt.subplots(4, 3)\n",
    "fig.subplots_adjust(hspace = 2, wspace=1)\n",
    "axs = axs.ravel()\n",
    "canvas = 0\n",
    "\n",
    "for feature in myFeatures:\n",
    "    axs[canvas].hist(sgDict[feature], density=True, color = \"blue\", alpha=0.25)\n",
    "    axs[canvas].hist(bkDict[feature], density=True, color = \"red\", alpha=0.25)\n",
    "    axs[canvas].set_title(feature)\n",
    "    canvas+= 1\n",
    "    #print(feature)\n",
    "plt.show()"
   ]
  },
  {
   "cell_type": "code",
   "execution_count": 7,
   "id": "printable-bracelet",
   "metadata": {},
   "outputs": [],
   "source": [
    "# Add categoty\n",
    "sgDict[\"category\"] = numpy.ones(sgJet1Pt.size)\n",
    "bkDict[\"category\"] = -numpy.ones(bkJet1Pt.size)"
   ]
  },
  {
   "cell_type": "code",
   "execution_count": 8,
   "id": "found-premiere",
   "metadata": {},
   "outputs": [
    {
     "data": {
      "text/html": [
       "<div>\n",
       "<style scoped>\n",
       "    .dataframe tbody tr th:only-of-type {\n",
       "        vertical-align: middle;\n",
       "    }\n",
       "\n",
       "    .dataframe tbody tr th {\n",
       "        vertical-align: top;\n",
       "    }\n",
       "\n",
       "    .dataframe thead th {\n",
       "        text-align: right;\n",
       "    }\n",
       "</style>\n",
       "<table border=\"1\" class=\"dataframe\">\n",
       "  <thead>\n",
       "    <tr style=\"text-align: right;\">\n",
       "      <th></th>\n",
       "      <th>XS</th>\n",
       "      <th>Nevt</th>\n",
       "      <th>Event</th>\n",
       "      <th>weight</th>\n",
       "      <th>Jet1Pt</th>\n",
       "      <th>Met</th>\n",
       "      <th>mt</th>\n",
       "      <th>LepPt</th>\n",
       "      <th>LepEta</th>\n",
       "      <th>LepChg</th>\n",
       "      <th>HT</th>\n",
       "      <th>NbLoose</th>\n",
       "      <th>Njet</th>\n",
       "      <th>JetHBpt</th>\n",
       "      <th>DrJetHBLep</th>\n",
       "      <th>JetHBDeepCSV</th>\n",
       "      <th>category</th>\n",
       "    </tr>\n",
       "  </thead>\n",
       "  <tbody>\n",
       "    <tr>\n",
       "      <th>0</th>\n",
       "      <td>0.347</td>\n",
       "      <td>87155.0</td>\n",
       "      <td>374122677</td>\n",
       "      <td>1.660328e-06</td>\n",
       "      <td>358.50</td>\n",
       "      <td>495.763916</td>\n",
       "      <td>66.287491</td>\n",
       "      <td>9.832875</td>\n",
       "      <td>1.825684</td>\n",
       "      <td>-1.0</td>\n",
       "      <td>517.68750</td>\n",
       "      <td>0.0</td>\n",
       "      <td>3.0</td>\n",
       "      <td>358.50000</td>\n",
       "      <td>2.477360</td>\n",
       "      <td>0.096924</td>\n",
       "      <td>1.0</td>\n",
       "    </tr>\n",
       "    <tr>\n",
       "      <th>1</th>\n",
       "      <td>0.347</td>\n",
       "      <td>87155.0</td>\n",
       "      <td>374122819</td>\n",
       "      <td>1.081413e-06</td>\n",
       "      <td>382.75</td>\n",
       "      <td>294.244263</td>\n",
       "      <td>106.477509</td>\n",
       "      <td>19.571440</td>\n",
       "      <td>-1.339844</td>\n",
       "      <td>-1.0</td>\n",
       "      <td>382.75000</td>\n",
       "      <td>0.0</td>\n",
       "      <td>1.0</td>\n",
       "      <td>382.75000</td>\n",
       "      <td>4.031056</td>\n",
       "      <td>0.051941</td>\n",
       "      <td>1.0</td>\n",
       "    </tr>\n",
       "    <tr>\n",
       "      <th>2</th>\n",
       "      <td>0.347</td>\n",
       "      <td>87155.0</td>\n",
       "      <td>374122985</td>\n",
       "      <td>8.781268e-07</td>\n",
       "      <td>263.25</td>\n",
       "      <td>452.017548</td>\n",
       "      <td>54.583851</td>\n",
       "      <td>7.002269</td>\n",
       "      <td>0.790894</td>\n",
       "      <td>1.0</td>\n",
       "      <td>299.21875</td>\n",
       "      <td>0.0</td>\n",
       "      <td>2.0</td>\n",
       "      <td>263.25000</td>\n",
       "      <td>2.182332</td>\n",
       "      <td>0.096863</td>\n",
       "      <td>1.0</td>\n",
       "    </tr>\n",
       "    <tr>\n",
       "      <th>3</th>\n",
       "      <td>0.347</td>\n",
       "      <td>87155.0</td>\n",
       "      <td>374123459</td>\n",
       "      <td>1.402837e-06</td>\n",
       "      <td>458.25</td>\n",
       "      <td>619.445618</td>\n",
       "      <td>15.721840</td>\n",
       "      <td>18.753944</td>\n",
       "      <td>-0.114059</td>\n",
       "      <td>1.0</td>\n",
       "      <td>753.78125</td>\n",
       "      <td>1.0</td>\n",
       "      <td>6.0</td>\n",
       "      <td>57.15625</td>\n",
       "      <td>2.474060</td>\n",
       "      <td>0.388184</td>\n",
       "      <td>1.0</td>\n",
       "    </tr>\n",
       "    <tr>\n",
       "      <th>4</th>\n",
       "      <td>0.347</td>\n",
       "      <td>87155.0</td>\n",
       "      <td>15721703</td>\n",
       "      <td>2.418872e-06</td>\n",
       "      <td>514.00</td>\n",
       "      <td>612.521118</td>\n",
       "      <td>46.614670</td>\n",
       "      <td>10.367803</td>\n",
       "      <td>0.696045</td>\n",
       "      <td>-1.0</td>\n",
       "      <td>569.18750</td>\n",
       "      <td>0.0</td>\n",
       "      <td>2.0</td>\n",
       "      <td>514.00000</td>\n",
       "      <td>3.283460</td>\n",
       "      <td>0.039825</td>\n",
       "      <td>1.0</td>\n",
       "    </tr>\n",
       "    <tr>\n",
       "      <th>...</th>\n",
       "      <td>...</td>\n",
       "      <td>...</td>\n",
       "      <td>...</td>\n",
       "      <td>...</td>\n",
       "      <td>...</td>\n",
       "      <td>...</td>\n",
       "      <td>...</td>\n",
       "      <td>...</td>\n",
       "      <td>...</td>\n",
       "      <td>...</td>\n",
       "      <td>...</td>\n",
       "      <td>...</td>\n",
       "      <td>...</td>\n",
       "      <td>...</td>\n",
       "      <td>...</td>\n",
       "      <td>...</td>\n",
       "      <td>...</td>\n",
       "    </tr>\n",
       "    <tr>\n",
       "      <th>3470</th>\n",
       "      <td>0.347</td>\n",
       "      <td>87155.0</td>\n",
       "      <td>420187995</td>\n",
       "      <td>1.260655e-06</td>\n",
       "      <td>288.75</td>\n",
       "      <td>292.965515</td>\n",
       "      <td>64.782486</td>\n",
       "      <td>8.685623</td>\n",
       "      <td>-1.313232</td>\n",
       "      <td>1.0</td>\n",
       "      <td>545.43750</td>\n",
       "      <td>0.0</td>\n",
       "      <td>3.0</td>\n",
       "      <td>188.37500</td>\n",
       "      <td>0.872331</td>\n",
       "      <td>0.070007</td>\n",
       "      <td>1.0</td>\n",
       "    </tr>\n",
       "    <tr>\n",
       "      <th>3471</th>\n",
       "      <td>0.347</td>\n",
       "      <td>87155.0</td>\n",
       "      <td>420187999</td>\n",
       "      <td>1.456874e-06</td>\n",
       "      <td>391.25</td>\n",
       "      <td>373.897644</td>\n",
       "      <td>88.149536</td>\n",
       "      <td>11.288665</td>\n",
       "      <td>1.731689</td>\n",
       "      <td>1.0</td>\n",
       "      <td>439.31250</td>\n",
       "      <td>1.0</td>\n",
       "      <td>2.0</td>\n",
       "      <td>391.25000</td>\n",
       "      <td>2.197504</td>\n",
       "      <td>0.286865</td>\n",
       "      <td>1.0</td>\n",
       "    </tr>\n",
       "    <tr>\n",
       "      <th>3472</th>\n",
       "      <td>0.347</td>\n",
       "      <td>87155.0</td>\n",
       "      <td>421150243</td>\n",
       "      <td>1.339093e-06</td>\n",
       "      <td>321.00</td>\n",
       "      <td>332.120636</td>\n",
       "      <td>104.815689</td>\n",
       "      <td>9.481251</td>\n",
       "      <td>0.224731</td>\n",
       "      <td>-1.0</td>\n",
       "      <td>321.00000</td>\n",
       "      <td>0.0</td>\n",
       "      <td>1.0</td>\n",
       "      <td>321.00000</td>\n",
       "      <td>1.503235</td>\n",
       "      <td>0.066345</td>\n",
       "      <td>1.0</td>\n",
       "    </tr>\n",
       "    <tr>\n",
       "      <th>3473</th>\n",
       "      <td>0.347</td>\n",
       "      <td>87155.0</td>\n",
       "      <td>421150477</td>\n",
       "      <td>1.574922e-06</td>\n",
       "      <td>320.00</td>\n",
       "      <td>347.891785</td>\n",
       "      <td>5.499272</td>\n",
       "      <td>5.202309</td>\n",
       "      <td>0.810547</td>\n",
       "      <td>1.0</td>\n",
       "      <td>320.00000</td>\n",
       "      <td>1.0</td>\n",
       "      <td>1.0</td>\n",
       "      <td>320.00000</td>\n",
       "      <td>2.904480</td>\n",
       "      <td>0.526855</td>\n",
       "      <td>1.0</td>\n",
       "    </tr>\n",
       "    <tr>\n",
       "      <th>3474</th>\n",
       "      <td>0.347</td>\n",
       "      <td>87155.0</td>\n",
       "      <td>421150655</td>\n",
       "      <td>6.426898e-07</td>\n",
       "      <td>265.25</td>\n",
       "      <td>362.600739</td>\n",
       "      <td>71.809319</td>\n",
       "      <td>11.847193</td>\n",
       "      <td>0.631958</td>\n",
       "      <td>1.0</td>\n",
       "      <td>565.00000</td>\n",
       "      <td>2.0</td>\n",
       "      <td>3.0</td>\n",
       "      <td>265.25000</td>\n",
       "      <td>1.614176</td>\n",
       "      <td>0.857910</td>\n",
       "      <td>1.0</td>\n",
       "    </tr>\n",
       "  </tbody>\n",
       "</table>\n",
       "<p>3475 rows × 17 columns</p>\n",
       "</div>"
      ],
      "text/plain": [
       "         XS     Nevt      Event        weight  Jet1Pt         Met          mt  \\\n",
       "0     0.347  87155.0  374122677  1.660328e-06  358.50  495.763916   66.287491   \n",
       "1     0.347  87155.0  374122819  1.081413e-06  382.75  294.244263  106.477509   \n",
       "2     0.347  87155.0  374122985  8.781268e-07  263.25  452.017548   54.583851   \n",
       "3     0.347  87155.0  374123459  1.402837e-06  458.25  619.445618   15.721840   \n",
       "4     0.347  87155.0   15721703  2.418872e-06  514.00  612.521118   46.614670   \n",
       "...     ...      ...        ...           ...     ...         ...         ...   \n",
       "3470  0.347  87155.0  420187995  1.260655e-06  288.75  292.965515   64.782486   \n",
       "3471  0.347  87155.0  420187999  1.456874e-06  391.25  373.897644   88.149536   \n",
       "3472  0.347  87155.0  421150243  1.339093e-06  321.00  332.120636  104.815689   \n",
       "3473  0.347  87155.0  421150477  1.574922e-06  320.00  347.891785    5.499272   \n",
       "3474  0.347  87155.0  421150655  6.426898e-07  265.25  362.600739   71.809319   \n",
       "\n",
       "          LepPt    LepEta  LepChg         HT  NbLoose  Njet    JetHBpt  \\\n",
       "0      9.832875  1.825684    -1.0  517.68750      0.0   3.0  358.50000   \n",
       "1     19.571440 -1.339844    -1.0  382.75000      0.0   1.0  382.75000   \n",
       "2      7.002269  0.790894     1.0  299.21875      0.0   2.0  263.25000   \n",
       "3     18.753944 -0.114059     1.0  753.78125      1.0   6.0   57.15625   \n",
       "4     10.367803  0.696045    -1.0  569.18750      0.0   2.0  514.00000   \n",
       "...         ...       ...     ...        ...      ...   ...        ...   \n",
       "3470   8.685623 -1.313232     1.0  545.43750      0.0   3.0  188.37500   \n",
       "3471  11.288665  1.731689     1.0  439.31250      1.0   2.0  391.25000   \n",
       "3472   9.481251  0.224731    -1.0  321.00000      0.0   1.0  321.00000   \n",
       "3473   5.202309  0.810547     1.0  320.00000      1.0   1.0  320.00000   \n",
       "3474  11.847193  0.631958     1.0  565.00000      2.0   3.0  265.25000   \n",
       "\n",
       "      DrJetHBLep  JetHBDeepCSV  category  \n",
       "0       2.477360      0.096924       1.0  \n",
       "1       4.031056      0.051941       1.0  \n",
       "2       2.182332      0.096863       1.0  \n",
       "3       2.474060      0.388184       1.0  \n",
       "4       3.283460      0.039825       1.0  \n",
       "...          ...           ...       ...  \n",
       "3470    0.872331      0.070007       1.0  \n",
       "3471    2.197504      0.286865       1.0  \n",
       "3472    1.503235      0.066345       1.0  \n",
       "3473    2.904480      0.526855       1.0  \n",
       "3474    1.614176      0.857910       1.0  \n",
       "\n",
       "[3475 rows x 17 columns]"
      ]
     },
     "metadata": {},
     "output_type": "display_data"
    }
   ],
   "source": [
    "sgDF = pd.DataFrame(sgDict)\n",
    "display(sgDF)"
   ]
  },
  {
   "cell_type": "code",
   "execution_count": 9,
   "id": "talented-business",
   "metadata": {
    "scrolled": true
   },
   "outputs": [
    {
     "data": {
      "text/html": [
       "<div>\n",
       "<style scoped>\n",
       "    .dataframe tbody tr th:only-of-type {\n",
       "        vertical-align: middle;\n",
       "    }\n",
       "\n",
       "    .dataframe tbody tr th {\n",
       "        vertical-align: top;\n",
       "    }\n",
       "\n",
       "    .dataframe thead th {\n",
       "        text-align: right;\n",
       "    }\n",
       "</style>\n",
       "<table border=\"1\" class=\"dataframe\">\n",
       "  <thead>\n",
       "    <tr style=\"text-align: right;\">\n",
       "      <th></th>\n",
       "      <th>XS</th>\n",
       "      <th>Nevt</th>\n",
       "      <th>Event</th>\n",
       "      <th>weight</th>\n",
       "      <th>Jet1Pt</th>\n",
       "      <th>Met</th>\n",
       "      <th>mt</th>\n",
       "      <th>LepPt</th>\n",
       "      <th>LepEta</th>\n",
       "      <th>LepChg</th>\n",
       "      <th>HT</th>\n",
       "      <th>NbLoose</th>\n",
       "      <th>Njet</th>\n",
       "      <th>JetHBpt</th>\n",
       "      <th>DrJetHBLep</th>\n",
       "      <th>JetHBDeepCSV</th>\n",
       "      <th>category</th>\n",
       "    </tr>\n",
       "  </thead>\n",
       "  <tbody>\n",
       "    <tr>\n",
       "      <th>0</th>\n",
       "      <td>407.899994</td>\n",
       "      <td>21250516.0</td>\n",
       "      <td>186969</td>\n",
       "      <td>2.959862e-05</td>\n",
       "      <td>257.500</td>\n",
       "      <td>314.997894</td>\n",
       "      <td>13.740556</td>\n",
       "      <td>9.744009</td>\n",
       "      <td>1.150879</td>\n",
       "      <td>-1.0</td>\n",
       "      <td>337.93750</td>\n",
       "      <td>1.0</td>\n",
       "      <td>2.0</td>\n",
       "      <td>257.50000</td>\n",
       "      <td>2.776972</td>\n",
       "      <td>0.220947</td>\n",
       "      <td>-1.0</td>\n",
       "    </tr>\n",
       "    <tr>\n",
       "      <th>1</th>\n",
       "      <td>407.899994</td>\n",
       "      <td>21250516.0</td>\n",
       "      <td>43941855</td>\n",
       "      <td>1.416709e-05</td>\n",
       "      <td>205.625</td>\n",
       "      <td>289.707642</td>\n",
       "      <td>28.436508</td>\n",
       "      <td>13.372465</td>\n",
       "      <td>-0.232910</td>\n",
       "      <td>1.0</td>\n",
       "      <td>387.90625</td>\n",
       "      <td>1.0</td>\n",
       "      <td>3.0</td>\n",
       "      <td>138.00000</td>\n",
       "      <td>2.917414</td>\n",
       "      <td>0.163696</td>\n",
       "      <td>-1.0</td>\n",
       "    </tr>\n",
       "    <tr>\n",
       "      <th>2</th>\n",
       "      <td>407.899994</td>\n",
       "      <td>21250516.0</td>\n",
       "      <td>90462929</td>\n",
       "      <td>2.595884e-05</td>\n",
       "      <td>144.500</td>\n",
       "      <td>412.164795</td>\n",
       "      <td>0.787054</td>\n",
       "      <td>5.453191</td>\n",
       "      <td>-0.400940</td>\n",
       "      <td>1.0</td>\n",
       "      <td>287.75000</td>\n",
       "      <td>1.0</td>\n",
       "      <td>2.0</td>\n",
       "      <td>144.50000</td>\n",
       "      <td>3.085957</td>\n",
       "      <td>0.284424</td>\n",
       "      <td>-1.0</td>\n",
       "    </tr>\n",
       "    <tr>\n",
       "      <th>3</th>\n",
       "      <td>407.899994</td>\n",
       "      <td>21250516.0</td>\n",
       "      <td>90467997</td>\n",
       "      <td>1.444754e-05</td>\n",
       "      <td>293.250</td>\n",
       "      <td>342.921143</td>\n",
       "      <td>92.996017</td>\n",
       "      <td>17.136381</td>\n",
       "      <td>0.855347</td>\n",
       "      <td>-1.0</td>\n",
       "      <td>330.09375</td>\n",
       "      <td>0.0</td>\n",
       "      <td>2.0</td>\n",
       "      <td>36.84375</td>\n",
       "      <td>2.587237</td>\n",
       "      <td>0.065918</td>\n",
       "      <td>-1.0</td>\n",
       "    </tr>\n",
       "    <tr>\n",
       "      <th>4</th>\n",
       "      <td>407.899994</td>\n",
       "      <td>21250516.0</td>\n",
       "      <td>90663941</td>\n",
       "      <td>1.565862e-06</td>\n",
       "      <td>189.375</td>\n",
       "      <td>290.784393</td>\n",
       "      <td>83.576836</td>\n",
       "      <td>6.006060</td>\n",
       "      <td>-0.061378</td>\n",
       "      <td>1.0</td>\n",
       "      <td>244.93750</td>\n",
       "      <td>0.0</td>\n",
       "      <td>2.0</td>\n",
       "      <td>55.56250</td>\n",
       "      <td>1.127103</td>\n",
       "      <td>0.043488</td>\n",
       "      <td>-1.0</td>\n",
       "    </tr>\n",
       "    <tr>\n",
       "      <th>...</th>\n",
       "      <td>...</td>\n",
       "      <td>...</td>\n",
       "      <td>...</td>\n",
       "      <td>...</td>\n",
       "      <td>...</td>\n",
       "      <td>...</td>\n",
       "      <td>...</td>\n",
       "      <td>...</td>\n",
       "      <td>...</td>\n",
       "      <td>...</td>\n",
       "      <td>...</td>\n",
       "      <td>...</td>\n",
       "      <td>...</td>\n",
       "      <td>...</td>\n",
       "      <td>...</td>\n",
       "      <td>...</td>\n",
       "      <td>...</td>\n",
       "    </tr>\n",
       "    <tr>\n",
       "      <th>14066</th>\n",
       "      <td>407.899994</td>\n",
       "      <td>21250516.0</td>\n",
       "      <td>152637049</td>\n",
       "      <td>1.754597e-05</td>\n",
       "      <td>295.500</td>\n",
       "      <td>313.942108</td>\n",
       "      <td>37.779633</td>\n",
       "      <td>10.321433</td>\n",
       "      <td>-0.027855</td>\n",
       "      <td>-1.0</td>\n",
       "      <td>295.50000</td>\n",
       "      <td>0.0</td>\n",
       "      <td>1.0</td>\n",
       "      <td>295.50000</td>\n",
       "      <td>2.600261</td>\n",
       "      <td>0.023087</td>\n",
       "      <td>-1.0</td>\n",
       "    </tr>\n",
       "    <tr>\n",
       "      <th>14067</th>\n",
       "      <td>407.899994</td>\n",
       "      <td>21250516.0</td>\n",
       "      <td>155856527</td>\n",
       "      <td>1.467571e-05</td>\n",
       "      <td>394.750</td>\n",
       "      <td>370.734650</td>\n",
       "      <td>48.072338</td>\n",
       "      <td>18.051493</td>\n",
       "      <td>-0.984985</td>\n",
       "      <td>1.0</td>\n",
       "      <td>394.75000</td>\n",
       "      <td>0.0</td>\n",
       "      <td>1.0</td>\n",
       "      <td>394.75000</td>\n",
       "      <td>2.614589</td>\n",
       "      <td>0.018326</td>\n",
       "      <td>-1.0</td>\n",
       "    </tr>\n",
       "    <tr>\n",
       "      <th>14068</th>\n",
       "      <td>407.899994</td>\n",
       "      <td>21250516.0</td>\n",
       "      <td>155859873</td>\n",
       "      <td>3.303919e-07</td>\n",
       "      <td>327.750</td>\n",
       "      <td>357.940735</td>\n",
       "      <td>11.259412</td>\n",
       "      <td>16.103882</td>\n",
       "      <td>-2.321289</td>\n",
       "      <td>-1.0</td>\n",
       "      <td>327.75000</td>\n",
       "      <td>0.0</td>\n",
       "      <td>1.0</td>\n",
       "      <td>327.75000</td>\n",
       "      <td>3.275612</td>\n",
       "      <td>0.049957</td>\n",
       "      <td>-1.0</td>\n",
       "    </tr>\n",
       "    <tr>\n",
       "      <th>14069</th>\n",
       "      <td>407.899994</td>\n",
       "      <td>21250516.0</td>\n",
       "      <td>151989749</td>\n",
       "      <td>1.536704e-05</td>\n",
       "      <td>323.750</td>\n",
       "      <td>296.777802</td>\n",
       "      <td>71.233147</td>\n",
       "      <td>10.747914</td>\n",
       "      <td>1.748535</td>\n",
       "      <td>1.0</td>\n",
       "      <td>356.31250</td>\n",
       "      <td>0.0</td>\n",
       "      <td>2.0</td>\n",
       "      <td>32.56250</td>\n",
       "      <td>0.923977</td>\n",
       "      <td>0.073486</td>\n",
       "      <td>-1.0</td>\n",
       "    </tr>\n",
       "    <tr>\n",
       "      <th>14070</th>\n",
       "      <td>407.899994</td>\n",
       "      <td>21250516.0</td>\n",
       "      <td>167896977</td>\n",
       "      <td>2.637477e-05</td>\n",
       "      <td>315.750</td>\n",
       "      <td>320.336090</td>\n",
       "      <td>92.495834</td>\n",
       "      <td>22.536806</td>\n",
       "      <td>-1.612549</td>\n",
       "      <td>1.0</td>\n",
       "      <td>315.75000</td>\n",
       "      <td>1.0</td>\n",
       "      <td>1.0</td>\n",
       "      <td>315.75000</td>\n",
       "      <td>2.310367</td>\n",
       "      <td>0.230835</td>\n",
       "      <td>-1.0</td>\n",
       "    </tr>\n",
       "  </tbody>\n",
       "</table>\n",
       "<p>14071 rows × 17 columns</p>\n",
       "</div>"
      ],
      "text/plain": [
       "               XS        Nevt      Event        weight   Jet1Pt         Met  \\\n",
       "0      407.899994  21250516.0     186969  2.959862e-05  257.500  314.997894   \n",
       "1      407.899994  21250516.0   43941855  1.416709e-05  205.625  289.707642   \n",
       "2      407.899994  21250516.0   90462929  2.595884e-05  144.500  412.164795   \n",
       "3      407.899994  21250516.0   90467997  1.444754e-05  293.250  342.921143   \n",
       "4      407.899994  21250516.0   90663941  1.565862e-06  189.375  290.784393   \n",
       "...           ...         ...        ...           ...      ...         ...   \n",
       "14066  407.899994  21250516.0  152637049  1.754597e-05  295.500  313.942108   \n",
       "14067  407.899994  21250516.0  155856527  1.467571e-05  394.750  370.734650   \n",
       "14068  407.899994  21250516.0  155859873  3.303919e-07  327.750  357.940735   \n",
       "14069  407.899994  21250516.0  151989749  1.536704e-05  323.750  296.777802   \n",
       "14070  407.899994  21250516.0  167896977  2.637477e-05  315.750  320.336090   \n",
       "\n",
       "              mt      LepPt    LepEta  LepChg         HT  NbLoose  Njet  \\\n",
       "0      13.740556   9.744009  1.150879    -1.0  337.93750      1.0   2.0   \n",
       "1      28.436508  13.372465 -0.232910     1.0  387.90625      1.0   3.0   \n",
       "2       0.787054   5.453191 -0.400940     1.0  287.75000      1.0   2.0   \n",
       "3      92.996017  17.136381  0.855347    -1.0  330.09375      0.0   2.0   \n",
       "4      83.576836   6.006060 -0.061378     1.0  244.93750      0.0   2.0   \n",
       "...          ...        ...       ...     ...        ...      ...   ...   \n",
       "14066  37.779633  10.321433 -0.027855    -1.0  295.50000      0.0   1.0   \n",
       "14067  48.072338  18.051493 -0.984985     1.0  394.75000      0.0   1.0   \n",
       "14068  11.259412  16.103882 -2.321289    -1.0  327.75000      0.0   1.0   \n",
       "14069  71.233147  10.747914  1.748535     1.0  356.31250      0.0   2.0   \n",
       "14070  92.495834  22.536806 -1.612549     1.0  315.75000      1.0   1.0   \n",
       "\n",
       "         JetHBpt  DrJetHBLep  JetHBDeepCSV  category  \n",
       "0      257.50000    2.776972      0.220947      -1.0  \n",
       "1      138.00000    2.917414      0.163696      -1.0  \n",
       "2      144.50000    3.085957      0.284424      -1.0  \n",
       "3       36.84375    2.587237      0.065918      -1.0  \n",
       "4       55.56250    1.127103      0.043488      -1.0  \n",
       "...          ...         ...           ...       ...  \n",
       "14066  295.50000    2.600261      0.023087      -1.0  \n",
       "14067  394.75000    2.614589      0.018326      -1.0  \n",
       "14068  327.75000    3.275612      0.049957      -1.0  \n",
       "14069   32.56250    0.923977      0.073486      -1.0  \n",
       "14070  315.75000    2.310367      0.230835      -1.0  \n",
       "\n",
       "[14071 rows x 17 columns]"
      ]
     },
     "metadata": {},
     "output_type": "display_data"
    }
   ],
   "source": [
    "bkDF = pd.DataFrame(bkDict)\n",
    "display(bkDF)"
   ]
  },
  {
   "cell_type": "code",
   "execution_count": 10,
   "id": "earlier-brooks",
   "metadata": {},
   "outputs": [],
   "source": [
    "def dataForQDevice(n_samples, sampleDict, features):\n",
    "    tensor = np.zeros([n_samples,len(features)])\n",
    "    for i in range(0,n_samples):\n",
    "        event = np.zeros([1,len(features)])\n",
    "        for j in range(0,len(features)):\n",
    "            event[0][j] = sampleDict[features[j]][i]\n",
    "        tensor[i] = event\n",
    "    \n",
    "    return tensor"
   ]
  },
  {
   "cell_type": "code",
   "execution_count": 11,
   "id": "affecting-myrtle",
   "metadata": {},
   "outputs": [],
   "source": [
    "#n_samples = 3000 #500\n",
    "n_samples = 50\n",
    "\n",
    "features = [\"LepPt\", \"Met\", \"Jet1Pt\",\"mt\"]\n",
    "#features = myFeatures\n",
    "\n",
    "X0 = dataForQDevice(n_samples,sgDict,features)\n",
    "X1 = dataForQDevice(n_samples,bkDict,features)\n",
    "\n",
    "Y0 = np.array(sgDict[\"category\"][:n_samples])\n",
    "Y1 = np.array(bkDict[\"category\"][:n_samples])\n",
    "\n",
    "X = np.concatenate([X0,X1], axis=0)\n",
    "Y = np.concatenate([Y0,Y1], axis=0)\n",
    "\n",
    "# normalize data\n",
    "X = minmax_scale(X,feature_range=(0, numpy.pi))\n",
    "\n",
    "# split data into train + validation and test\n",
    "X_train_val , X_test , y_train_val , y_test=train_test_split(X , Y , test_size=0.2)"
   ]
  },
  {
   "cell_type": "markdown",
   "id": "composite-novelty",
   "metadata": {},
   "source": [
    "## Quantum"
   ]
  },
  {
   "cell_type": "code",
   "execution_count": 12,
   "id": "focal-hydrogen",
   "metadata": {},
   "outputs": [],
   "source": [
    "n_qubits = X.shape[1]"
   ]
  },
  {
   "cell_type": "code",
   "execution_count": 13,
   "id": "union-spotlight",
   "metadata": {},
   "outputs": [],
   "source": [
    "# quantum device\n",
    "dev = qml.device('default.qubit', wires=n_qubits)\n",
    "#dev = qml.device('default.mixed', wires=n_qubits)\n",
    "#dev = qml.device('qiskit.aer', wires=n_qubits)"
   ]
  },
  {
   "cell_type": "code",
   "execution_count": 14,
   "id": "searching-sunset",
   "metadata": {},
   "outputs": [],
   "source": [
    "# quantum circuit\n",
    "@qml.qnode(dev)\n",
    "def circuit(weights, x=None):\n",
    "    qml.templates.AngleEmbedding(x, wires=range(n_qubits))\n",
    "    qml.templates.StronglyEntanglingLayers(weights, wires=range(n_qubits))\n",
    "    #qml.templates.BasicEntanglerLayers(w, wires=range(n_qubits))\n",
    "    return qml.expval(qml.PauliZ(wires=0))\n",
    "\n",
    "# variational quantum classifier\n",
    "def variational_classifier(theta_weights, theta_bias, x=None):\n",
    "    weights=theta_weights\n",
    "    bias=theta_bias\n",
    "    return circuit(weights, x=x)+bias"
   ]
  },
  {
   "cell_type": "code",
   "execution_count": 15,
   "id": "chemical-albania",
   "metadata": {},
   "outputs": [
    {
     "name": "stdout",
     "output_type": "stream",
     "text": [
      " 0: ──╭AngleEmbedding(M0)──╭StronglyEntanglingLayers(M1)──┤ ⟨Z⟩ \n",
      " 1: ──├AngleEmbedding(M0)──├StronglyEntanglingLayers(M1)──┤     \n",
      " 2: ──├AngleEmbedding(M0)──├StronglyEntanglingLayers(M1)──┤     \n",
      " 3: ──╰AngleEmbedding(M0)──╰StronglyEntanglingLayers(M1)──┤     \n",
      "M0 =\n",
      "[0.39993115 0.76634718 0.53143038 0.76456724]\n",
      "M1 =\n",
      "[[[ 0.00455838 -0.00399299  0.01002206]\n",
      "  [ 0.0003182   0.01320788 -0.0045427 ]\n",
      "  [-0.01022958  0.00238073  0.00239885]\n",
      "  [-0.00056781  0.01414905 -0.00122134]]\n",
      "\n",
      " [[ 0.01570556  0.00388197  0.0069089 ]\n",
      "  [ 0.01395826 -0.00086653 -0.01173247]\n",
      "  [ 0.00194919  0.01009563  0.00680878]\n",
      "  [ 0.00166272  0.00286275 -0.00071683]]\n",
      "\n",
      " [[-0.01483681  0.00398409 -0.00137538]\n",
      "  [-0.00413812 -0.00700581 -0.00169406]\n",
      "  [ 0.00235192 -0.00453115  0.00346755]\n",
      "  [-0.00194344  0.00516977 -0.00642271]]]\n",
      "\n"
     ]
    }
   ],
   "source": [
    "# number of quantum layers\n",
    "n_layers = 3\n",
    "#n_layers = len(features)+1\n",
    "\n",
    "# draw random quantum node weights / initial weights\n",
    "theta_weights = 0.01 * np.random.randn(n_layers, n_qubits, 3, requires_grad=True)\n",
    "theta_bias = np.array(0.0, requires_grad=True)\n",
    "\n",
    "circuit(theta_weights, X[2])\n",
    "drawer = qml.draw(circuit)\n",
    "print(qml.draw(circuit)(theta_weights, X[2]))"
   ]
  },
  {
   "cell_type": "code",
   "execution_count": 16,
   "id": "auburn-overhead",
   "metadata": {
    "scrolled": true
   },
   "outputs": [
    {
     "name": "stderr",
     "output_type": "stream",
     "text": [
      "<ipython-input-16-d4b101a913df>:3: UserWarning: Matplotlib is currently using module://ipykernel.pylab.backend_inline, which is a non-GUI backend, so cannot show the figure.\n",
      "  fig.show()\n"
     ]
    },
    {
     "data": {
      "image/png": "[encoded data removed]",
      "text/plain": [
       "<Figure size 360x360 with 1 Axes>"
      ]
     },
     "metadata": {},
     "output_type": "display_data"
    }
   ],
   "source": [
    "qml.drawer.use_style('black_white')\n",
    "fig, ax = qml.draw_mpl(circuit)(theta_weights, X_test[2])\n",
    "fig.show()"
   ]
  },
  {
   "cell_type": "markdown",
   "id": "verbal-chart",
   "metadata": {},
   "source": [
    "## Training"
   ]
  },
  {
   "cell_type": "code",
   "execution_count": 17,
   "id": "private-friendship",
   "metadata": {},
   "outputs": [],
   "source": [
    "# split into train and validation\n",
    "X_train , X_val , y_train , y_val = train_test_split(X_train_val, y_train_val, test_size =0.20)\n",
    "\n",
    "# pca\n",
    "#pca = decomposition.PCA(n_components=len(features)).fit(X_train)\n",
    "#X_train = pca.transform(X_train)\n",
    "#X_val = pca.transform(X_val)\n",
    "\n",
    "data_train = list(zip(X_train, y_train))\n",
    "data_val  = list(zip(X_val, y_val))\n",
    "\n",
    "# select learning batch size\n",
    "batch_size = 10\n",
    "\n",
    "# calculate number of batches\n",
    "batches = len(X_train)// batch_size\n",
    "\n",
    "# select number of epochs\n",
    "n_epochs = 15"
   ]
  },
  {
   "cell_type": "code",
   "execution_count": 18,
   "id": "normal-crazy",
   "metadata": {},
   "outputs": [
    {
     "data": {
      "text/plain": [
       "6"
      ]
     },
     "execution_count": 18,
     "metadata": {},
     "output_type": "execute_result"
    }
   ],
   "source": [
    "batches"
   ]
  },
  {
   "cell_type": "code",
   "execution_count": 19,
   "id": "continuing-collar",
   "metadata": {},
   "outputs": [],
   "source": [
    "# build the optimizer object\n",
    "#pennylane_opt = qml.GradientDescentOptimizer(0.2)\n",
    "#pennylane_opt = qml.NesterovMomentumOptimizer(0.01)\n",
    "pennylane_opt = qml.NesterovMomentumOptimizer(0.3)"
   ]
  },
  {
   "cell_type": "code",
   "execution_count": 20,
   "id": "built-rolling",
   "metadata": {},
   "outputs": [],
   "source": [
    "def loss(a, b):\n",
    "    return (a - b)**2\n",
    "\n",
    "def average_loss(theta_weights, theta_bias, data):\n",
    "    c = 0\n",
    "    for x, y in data:\n",
    "        prediction = variational_classifier(theta_weights, theta_bias, x)\n",
    "        #prediction = np.sign(variational_classifier(theta_weights, theta_bias, x))\n",
    "        c += loss(prediction, y)\n",
    "    return c/len(data)"
   ]
  },
  {
   "cell_type": "code",
   "execution_count": 21,
   "id": "planned-physics",
   "metadata": {},
   "outputs": [],
   "source": [
    "def accuracy(theta_weights, theta_bias, data):\n",
    "    y_pred = []\n",
    "    y_true = []\n",
    "\n",
    "    for x, y in data:\n",
    "        prediction = np.sign(variational_classifier(theta_weights, theta_bias, x))\n",
    "        y_pred.append(prediction)\n",
    "        y_true.append(y)\n",
    "\n",
    "    accuracy = metrics.accuracy_score(y_true, y_pred)\n",
    "    return accuracy    "
   ]
  },
  {
   "cell_type": "code",
   "execution_count": 22,
   "id": "attached-princeton",
   "metadata": {},
   "outputs": [],
   "source": [
    "def pred(theta_weights, theta_bias, X):\n",
    "    y_pred = []\n",
    "    for x in X:\n",
    "        prediction = variational_classifier(theta_weights, theta_bias, x)\n",
    "        y_pred.append(prediction)\n",
    "        \n",
    "    return y_pred"
   ]
  },
  {
   "cell_type": "code",
   "execution_count": 23,
   "id": "ongoing-rubber",
   "metadata": {},
   "outputs": [],
   "source": [
    "loss_train  = []\n",
    "loss_val    = []\n",
    "accur_train = []\n",
    "accur_val   = []"
   ]
  },
  {
   "cell_type": "code",
   "execution_count": 24,
   "id": "moral-lesbian",
   "metadata": {},
   "outputs": [
    {
     "name": "stdout",
     "output_type": "stream",
     "text": [
      "Epoch:  1 | Loss: 1.6874381 | Acc train: 0.4844 val: 0.4375\n",
      "Epoch:  2 | Loss: 1.3110555 | Acc train: 0.5781 val: 0.4375\n",
      "Epoch:  3 | Loss: 1.3766665 | Acc train: 0.5625 val: 0.4375\n",
      "Epoch:  4 | Loss: 1.3095542 | Acc train: 0.5781 val: 0.4375\n",
      "Epoch:  5 | Loss: 1.2458525 | Acc train: 0.6094 val: 0.4375\n",
      "Epoch:  6 | Loss: 1.1827712 | Acc train: 0.5938 val: 0.4375\n",
      "Epoch:  7 | Loss: 1.0918629 | Acc train: 0.5938 val: 0.5000\n",
      "Epoch:  8 | Loss: 1.0064918 | Acc train: 0.7344 val: 0.6250\n",
      "Epoch:  9 | Loss: 0.9386035 | Acc train: 0.7031 val: 0.6875\n",
      "Epoch: 10 | Loss: 0.8889818 | Acc train: 0.7344 val: 0.7500\n",
      "Epoch: 11 | Loss: 0.8499265 | Acc train: 0.7500 val: 0.8125\n",
      "Epoch: 12 | Loss: 0.8107384 | Acc train: 0.7656 val: 0.8125\n",
      "Epoch: 13 | Loss: 0.7640788 | Acc train: 0.7812 val: 0.8125\n",
      "Epoch: 14 | Loss: 0.7100993 | Acc train: 0.7969 val: 0.7500\n",
      "Epoch: 15 | Loss: 0.6677898 | Acc train: 0.8125 val: 0.7500\n"
     ]
    }
   ],
   "source": [
    "for i in range(n_epochs):\n",
    "    #avg_loss_train = average_loss(theta_weights, theta_bias, data_train)\n",
    "    ([theta_weights, theta_bias], avg_loss_train) = pennylane_opt.step_and_cost(\n",
    "    lambda theta_weights_, theta_bias_: average_loss(\n",
    "        theta_weights_, theta_bias_, data_train), theta_weights, theta_bias)\n",
    "    loss_train.append(avg_loss_train)\n",
    "    avg_loss_val = average_loss(theta_weights, theta_bias, data_val)\n",
    "    loss_val.append(avg_loss_val)\n",
    "    \n",
    "    acc_train = accuracy(theta_weights, theta_bias, data_train)\n",
    "    acc_val = accuracy(theta_weights, theta_bias, data_val)\n",
    "    accur_train.append(acc_train)\n",
    "    accur_val.append(acc_val)\n",
    "\n",
    "    print(\"Epoch: {:2d} | Loss: {:0.7f} | Acc train: {:0.4f} val: {:0.4f}\"\n",
    "          \"\".format(i + 1, avg_loss_train, acc_train, acc_val))"
   ]
  },
  {
   "cell_type": "markdown",
   "id": "vulnerable-evanescence",
   "metadata": {},
   "source": [
    "# split training data into batches\n",
    "X_batches = np . array_split ( np . arange ( len ( X_train )) , batches )\n",
    "for it , batch_index in enumerate ( chain (*( n_epochs * [ X_batches ]))):\n",
    "    batch_cost = \\\n",
    "96 lambda theta : cost ( theta , X_train [ batch_index ] , e_train [ batch_index ])\n",
    "97 theta = pennylane_opt . step ( batch_cost , theta )\n",
    "98 # use X_validation and y_validation to decide whether to stop\n",
    "99 # end of learning loop"
   ]
  },
  {
   "cell_type": "code",
   "execution_count": 25,
   "id": "seeing-olive",
   "metadata": {},
   "outputs": [
    {
     "data": {
      "text/plain": [
       "<matplotlib.legend.Legend at 0x7fca43ecf670>"
      ]
     },
     "execution_count": 25,
     "metadata": {},
     "output_type": "execute_result"
    },
    {
     "data": {
      "image/png": "[encoded data removed]",
      "text/plain": [
       "<Figure size 432x288 with 2 Axes>"
      ]
     },
     "metadata": {
      "needs_background": "light"
     },
     "output_type": "display_data"
    }
   ],
   "source": [
    "fig, (ax1, ax2) = plt.subplots(2, 1)\n",
    "fig.subplots_adjust(hspace = 0.5, wspace=0)\n",
    "ax1.set_title(\"Loss\")\n",
    "ax1.plot(loss_train, label=\"train\")\n",
    "ax1.plot(loss_val, label=\"val\")\n",
    "ax1.legend(loc=\"upper right\")\n",
    "ax2.set_title(\"Accuracy\")\n",
    "ax2.plot(accur_train, label=\"train\")\n",
    "ax2.plot(accur_val, label=\"val\")\n",
    "ax2.legend(loc=\"lower right\")"
   ]
  },
  {
   "cell_type": "code",
   "execution_count": 26,
   "id": "stunning-group",
   "metadata": {},
   "outputs": [
    {
     "data": {
      "text/plain": [
       "<matplotlib.legend.Legend at 0x7fca446f2e50>"
      ]
     },
     "execution_count": 26,
     "metadata": {},
     "output_type": "execute_result"
    },
    {
     "data": {
      "image/png": "[encoded data removed]",
      "text/plain": [
       "<Figure size 432x288 with 1 Axes>"
      ]
     },
     "metadata": {
      "needs_background": "light"
     },
     "output_type": "display_data"
    }
   ],
   "source": [
    "y_pred_train = pred(theta_weights, theta_bias, X_train)\n",
    "y_pred_test  = pred(theta_weights, theta_bias, X_test)\n",
    "\n",
    "fpr_train, tpr_train, thresholds_train = metrics.roc_curve(y_train, y_pred_train)\n",
    "fpr, tpr, thresholds = metrics.roc_curve(y_test, y_pred_test)\n",
    "\n",
    "roc_auc_train = metrics.auc(fpr_train,tpr_train)\n",
    "roc_auc = metrics.auc(fpr,tpr)\n",
    "\n",
    "plt.plot(fpr_train,tpr_train, label='AUC_train = %0.3f' % (roc_auc_train))\n",
    "plt.plot(fpr,tpr, label='AUC_test = %0.3f' % (roc_auc))\n",
    "plt.legend(loc=\"lower right\")"
   ]
  },
  {
   "cell_type": "code",
   "execution_count": 29,
   "id": "timely-vietnam",
   "metadata": {},
   "outputs": [],
   "source": [
    "#print(qml.draw(circuit)(theta_weights, X[2]))"
   ]
  },
  {
   "cell_type": "code",
   "execution_count": 30,
   "id": "forbidden-orange",
   "metadata": {},
   "outputs": [],
   "source": [
    "def pred3(theta_weights, theta_bias, X):\n",
    "    y_pred = numpy.array([])\n",
    "    for x in X:\n",
    "        #prediction = np.sign(variational_classifier(theta_weights, theta_bias, x))\n",
    "        prediction = variational_classifier(theta_weights, theta_bias, x)\n",
    "        y_pred = numpy.append(y_pred,prediction)\n",
    "        \n",
    "    return y_pred"
   ]
  },
  {
   "cell_type": "code",
   "execution_count": 33,
   "id": "congressional-financing",
   "metadata": {},
   "outputs": [],
   "source": [
    "y_sig = pred3(theta_weights, theta_bias, X0)\n",
    "y_bkg = pred3(theta_weights, theta_bias, X1)"
   ]
  },
  {
   "cell_type": "code",
   "execution_count": 35,
   "id": "binding-hamilton",
   "metadata": {},
   "outputs": [
    {
     "data": {
      "image/png": "[encoded data removed]",
      "text/plain": [
       "<Figure size 432x288 with 1 Axes>"
      ]
     },
     "metadata": {
      "needs_background": "light"
     },
     "output_type": "display_data"
    }
   ],
   "source": [
    "plt.hist(y_sig, n_samples//2, color = \"blue\", alpha=0.25, label=\"Signal\")\n",
    "plt.hist(y_bkg, n_samples//2, color = \"red\" , alpha=0.25, label=\"Background\") #histtype='step'\n",
    "#plt.xlim([-1, 1])\n",
    "plt.legend(loc=\"best\")\n",
    "plt.show()"
   ]
  },
  {
   "cell_type": "markdown",
   "id": "interior-representation",
   "metadata": {},
   "source": [
    "## split training data into batches\n",
    "X_batches = np.array_split(np.arange(len(X_train)), batches) \n",
    "for it, batch_index in enumerate(chain(*(n_epochs*[X_batches]))):\n",
    "    batch_cost = lambda theta:cost(theta, X_train[batch_index], y_train[batch_index])\n",
    "    theta = pennylane_opt.step(batch_cost, theta)"
   ]
  },
  {
   "cell_type": "code",
   "execution_count": null,
   "id": "mechanical-vietnam",
   "metadata": {},
   "outputs": [],
   "source": []
  },
  {
   "cell_type": "markdown",
   "id": "nutritional-chess",
   "metadata": {},
   "source": [
    "https://conference.ippp.dur.ac.uk/event/929/attachments/3968/4559/piotr_gawron_quantum_neural_networks.pdf\n",
    "\n",
    "https://pennylane.ai/qml/demos/tutorial_variational_classifier.html\n",
    "\n",
    "https://youtu.be/YtepXvx5zdI"
   ]
  },
  {
   "cell_type": "code",
   "execution_count": null,
   "id": "unsigned-preparation",
   "metadata": {},
   "outputs": [],
   "source": []
  }
 ],
 "metadata": {
  "kernelspec": {
   "display_name": "Python 3",
   "language": "python",
   "name": "python3"
  },
  "language_info": {
   "codemirror_mode": {
    "name": "ipython",
    "version": 3
   },
   "file_extension": ".py",
   "mimetype": "text/x-python",
   "name": "python",
   "nbconvert_exporter": "python",
   "pygments_lexer": "ipython3",
   "version": "3.8.5"
  }
 },
 "nbformat": 4,
 "nbformat_minor": 5
}
