{
 "cells": [
  {
   "cell_type": "markdown",
   "id": "adjusted-collectible",
   "metadata": {},
   "source": [
    "# Stop 4-body decay search using QML"
   ]
  },
  {
   "cell_type": "markdown",
   "id": "metallic-murray",
   "metadata": {},
   "source": [
    "One of the main objectives of CERN Quantum Technology Initiative (CERN QTI) is to investigate if quantum computing can be used in the field of high-energy physics. With this tutorial/exercise we are going to explore quantum machine learning through the use of Variational Quantum Circuits (VQCs) applied to solve the problem of classification between Supersymmetry (<font color='blue'>signal</font>) and Standard Model (<font color='red'>background</font>) type of events. \n",
    "\n",
    "The simulations used were produced by the CMS collaboration and aim to simulate proton-pronton collisions and detection by the CMS detector at tht LHC - CERN."
   ]
  },
  {
   "cell_type": "markdown",
   "id": "naval-cyprus",
   "metadata": {},
   "source": [
    "## Machine learning (general) approach\n",
    "\n",
    "Use data samples to construct a model that minimizes cost of unseen data.\n",
    "\n",
    "<div>\n",
    "<img src=\"assets/ml.png\" width=\"750\"/>\n",
    "</div>"
   ]
  },
  {
   "cell_type": "markdown",
   "id": "ancient-revolution",
   "metadata": {},
   "source": [
    "## The Qubit"
   ]
  },
  {
   "cell_type": "markdown",
   "id": "charming-hawaii",
   "metadata": {},
   "source": [
    "A qubit (or quantum bit) is a basic unit of quantum information, meaning we can take advantage of properties found in quantum mechanics and use them in our computations such as superposition and entanglement.\n",
    "\n",
    "While the classic bit can only have a value of 1 **or** 0, a qubit can be in a superposition of 1 **and** 0. The qubit's **0** and **1** states are expressed as follows:\n",
    "\n",
    "$\\vert 0 \\rangle = \\begin{pmatrix} 1 \\\\ 0 \\end{pmatrix}, \\vert 1 \\rangle = \\begin{pmatrix} 0 \\\\ 1 \\end{pmatrix}$\n",
    "\n",
    "As a consequence of this mathematical description, unlike a bit, a qubit is not limited to being in one of these two states. Qubits can exist in what's known as a superposition of states. A superposition is a linear combination of two basis vectors. Mathematically:\n",
    "\n",
    "$\\vert \\psi \\rangle = \\alpha \\vert 0 \\rangle + \\beta \\vert 1 \\rangle = \\alpha \\begin{pmatrix} 1 \\\\ 0 \\end{pmatrix} + \\beta \\begin{pmatrix} 0 \\\\ 1 \\end{pmatrix} = \\begin{pmatrix} \\alpha \\\\ \\beta \\end{pmatrix}$ \n",
    "\n",
    "where $\\alpha$ and $\\beta$ are complex numbers and have to satisfy:\n",
    "\n",
    "$\\alpha\\alpha^* + \\beta\\beta^* =1$\n",
    "\n",
    "To note that when a qubit is in a superposition, it is not in both $\\vert 0 \\rangle$ and $\\vert 1 \\rangle$ \"simultaneously\", but is rather in some intermediate combination of the two. "
   ]
  },
  {
   "cell_type": "markdown",
   "id": "terminal-soccer",
   "metadata": {},
   "source": [
    "We can visualize a qubit as follows:\n",
    "\n",
    "<div>\n",
    "<img src=\"assets/Bloch_sphere.png\" width=\"500\"/>\n",
    "</div>\n",
    "\n",
    "This is called the Bloch sphere and you can play with it in [this demo](https://javafxpert.github.io/grok-bloch/)!"
   ]
  },
  {
   "cell_type": "markdown",
   "id": "unique-death",
   "metadata": {},
   "source": [
    "## A Quantum Circuit"
   ]
  },
  {
   "cell_type": "markdown",
   "id": "regulated-finger",
   "metadata": {},
   "source": [
    "_**Quantum circuits** are a common means of visually representing the sequence of operations that are performed on qubits during a quantum computation. They consist of a set of operations, or **gates**, applied to a set of qubits (or more generally, **wires**). Each wire in the diagram represents a qubit. Circuits are read from left to right, and this is the order in which operations are applied._\n",
    "\n",
    "An example of a quantum circuit:\n",
    "\n",
    "<div>\n",
    "<img src=\"https://codebook.xanadu.ai/pics/circuit_i-2-1.svg\" width=\"500\"/>\n",
    "</div>\n",
    "\n",
    "_Quantum circuits end in a measurement of one or more qubits. For example, the circuit below has 3 qubits that start in state |0⟩, applies 5 operations, and measures every qubit at the end._\n",
    "\n",
    "from https://codebook.xanadu.ai/I.2\n",
    "\n",
    "Quantum computation is all about manipulating qubit states by using gates and seeing the outcome of such manipulations by measuring the qubits."
   ]
  },
  {
   "cell_type": "markdown",
   "id": "understood-pottery",
   "metadata": {},
   "source": [
    "## The bit flip operation: NOT Gate"
   ]
  },
  {
   "cell_type": "markdown",
   "id": "breeding-compilation",
   "metadata": {},
   "source": [
    "Performing quantum operations involves multiplication by matrices that send valid, normalized quantum states to other normalized quantum states. The simplest quantum operation as the following effect:\n",
    "\n",
    "$X\\vert 0 \\rangle = \\vert 1 \\rangle$,\n",
    "\n",
    "$X\\vert 1 \\rangle = \\vert 0 \\rangle$\n",
    "\n",
    "Known as bit flip, Pauli-X or NOT gate, it can be mathematically represented as:\n",
    "\n",
    "$X = \\begin{pmatrix}\n",
    "0 & 1 \\\\\n",
    "1 & 0\n",
    "\\end{pmatrix}$\n",
    "\n",
    "and drawn in a quantum circuit diagram like:\n",
    "\n",
    "<div>\n",
    "<img src=\"https://codebook.xanadu.ai/pics/x.svg\" width=\"250\"/>\n",
    "</div>\n",
    "\n",
    "Let's now confirm that all of this works mathematically:\n",
    "\n",
    "\n",
    "$X\\vert 0 \\rangle=\\begin{bmatrix} 0 & 1 \\\\ 1 & 0 \\end{bmatrix} \\begin{bmatrix} 1 \\\\ 0 \\end{bmatrix} = \\begin{bmatrix} 0 \\\\ 1 \\end{bmatrix} = \\vert 1 \\rangle$\n",
    "\n",
    "We've flipped a quantum bit!"
   ]
  },
  {
   "cell_type": "markdown",
   "id": "faced-wrist",
   "metadata": {},
   "source": [
    "## Rotations, rotations, rotations: the RX, RZ, and RY Gates"
   ]
  },
  {
   "cell_type": "markdown",
   "id": "copyrighted-statement",
   "metadata": {},
   "source": [
    "As we saw, we can represent a qubit in 3D-space - the Bloch sphere. RX, RZ, and RY rotate the qubit's state vector about the appropriate axis.\n",
    "\n",
    "<div>\n",
    "<img src=\"https://codebook.xanadu.ai/pics/bloch_rotations.svg\" width=\"750\"/>\n",
    "</div>\n",
    "\n",
    "These operations become very useful in the context of QML because it means we can manipulate the qubits as a function of a parameter/angle $\\theta$ in order to find some kind of optimum in the quantum algorithm we design.\n",
    "\n",
    "The matrix representation of an $RX(\\theta)$ is:\n",
    "\n",
    "$RX(\\theta)=\\begin{pmatrix}\n",
    "\\cos(\\frac{\\theta}{2}) & -i\\sin(\\frac{\\theta}{2}) \\\\\n",
    "-i\\sin(\\frac{\\theta}{2}) & \\cos(\\frac{\\theta}{2})\n",
    "\\end{pmatrix}$ "
   ]
  },
  {
   "cell_type": "markdown",
   "id": "vertical-graduation",
   "metadata": {},
   "source": [
    "## Multiple Qubit states"
   ]
  },
  {
   "cell_type": "markdown",
   "id": "polar-attachment",
   "metadata": {},
   "source": [
    "A single classical bit has 2 possible states, a qubit has 2 complex amplitudes. In a similar manner, 2 classical bits have 4 possible states:\n",
    "\n",
    "00 01 10 11\n",
    "\n",
    "To describe a state of 2 qubits, 4 complex amplitudes are required:\n",
    "\n",
    "$\\vert \\psi \\rangle = \\psi_{00}\\vert 00 \\rangle + \\psi_{01}\\vert 01 \\rangle + \\psi_{10}\\vert 10 \\rangle + \\psi_{11}\\vert 11 \\rangle = \\begin{bmatrix} \\psi_{00} \\\\ \\psi_{01} \\\\ \\psi_{10} \\\\ \\psi_{11} \\end{bmatrix}$\n",
    "\n",
    "Such that the normalisation condition is respected:\n",
    "\n",
    "$|\\psi_{00}|^2 + |\\psi_{01}|^2 + |\\psi_{10}|^2 + |\\psi_{11}|^2 = 1$\n",
    "\n",
    "Let's suppose we have two separated qubits, $\\vert a \\rangle$ and $\\vert b \\rangle$:\n",
    "\n",
    "$\\vert a \\rangle = \\begin{bmatrix} a_0 \\\\ a_1 \\end{bmatrix}, \\vert b \\rangle = \\begin{bmatrix} b_0 \\\\ b_1 \\end{bmatrix}$\n",
    "\n",
    "We can describe their collective state, or the state of the circuit of 2 qubits, using the kronecker product:\n",
    "\n",
    "$\\vert b \\rangle \\otimes \\vert a \\rangle = \\vert ba \\rangle = \\begin{bmatrix}\n",
    "b_0 \\times \\begin{bmatrix} a_0 \\\\ a_1 \\end{bmatrix} \\\\\n",
    "b_1 \\times \\begin{bmatrix} a_0 \\\\ a_1 \\end{bmatrix}\n",
    "\\end{bmatrix} = \\begin{bmatrix} b_0 a_0 \\\\ b_0 a_1 \\\\ b_1 a_0 \\\\ b_1 a_1 \\end{bmatrix} = \n",
    "b_0a_0\\vert 00 \\rangle + b_0a_1\\vert 01 \\rangle + b_1a_0\\vert 10 \\rangle + b_1a_1\\vert 11 \\rangle$"
   ]
  },
  {
   "cell_type": "markdown",
   "id": "broke-population",
   "metadata": {},
   "source": [
    "## Entanglement and the CNOT Gate"
   ]
  },
  {
   "cell_type": "markdown",
   "id": "surprised-agenda",
   "metadata": {},
   "source": [
    "Until here, we saw gates that act only on single qubits, to complete all the ingredients we need gates that can act on multiple qubits in order to _entangle_ them. The idea being entanglement is that knowing the state of a qubit, means knowing the state of another qubit. And the idea behind the CNOT gate is that we can use a qubit to control the state of another one. When this 2 concepts are merged together we can entagle qubits. Let's see how that's done.\n",
    "\n",
    "By definition, a state is entangled if it cannot be described as a tensor product of individual qubit states (if it can, it is separable). An entangled state can only be described by specifying the full state. One example of an entangled state:\n",
    "\n",
    "$\\vert \\psi \\rangle = \\frac{1}{\\sqrt{2}} (\\vert 00 \\rangle + \\vert 11 \\rangle)$\n",
    "\n",
    "In order to describe this state using the kronecker tensor we need to find $a_0$, $a_1$, $b_0$ and $b_1$ such that:\n",
    "\n",
    "$b_0a_0=1 \\\\ b_0a_1=0 \\\\ b_1a_0=0 \\\\ b_1a_1=1$\n",
    "\n",
    "as one can see, there is no solution, it's not possible to describe this state as two separate qubits, so **they are entangled!**\n",
    "\n",
    "Let's now see how we can make such a state using the controlled-NOT or CNOT gate. This is a two-qubit gate that performs an operation (specifically, a Pauli X or NOT gate) on one qubit depending on the state of another:\n",
    "\n",
    "<div>\n",
    "<img src=\"https://codebook.xanadu.ai/pics/cnot.svg\" width=\"250\"/>\n",
    "</div>\n",
    "\n",
    "The first qubit, denoted with the solid dot, is the control qubit. The state of this qubit does not change, but its state is the one that determines whether the operation is performed. The second qubit is the target qubit. It's Matrix representation:\n",
    "\n",
    "$CNOT = \\begin{pmatrix}\n",
    "1 & 0 & 0 & 0 \\\\\n",
    "0 & 1 & 0 & 0 \\\\\n",
    "0 & 0 & 0 & 1 \\\\\n",
    "0 & 0 & 1 & 0 \n",
    "\\end{pmatrix}$\n",
    "\n",
    "CNOT acting on the computational basis states $\\vert ab \\rangle$:\n",
    "\n",
    "| $\\vert ab \\rangle$ | $CNOT_{ab}\\vert ab \\rangle$ |\n",
    "|:------------------:|:---------------------------:|\n",
    "| $\\vert 00 \\rangle$ | $\\vert 00 \\rangle$ |\n",
    "| $\\vert 01 \\rangle$ | $\\vert 01 \\rangle$ |\n",
    "| $\\vert 10 \\rangle$ | $\\vert 11 \\rangle$ |\n",
    "| $\\vert 11 \\rangle$ | $\\vert 10 \\rangle$ |\n",
    "\n",
    "\n",
    "If, the first qubit is the target and the second one the control, CNOT is:\n",
    "\n",
    "$CNOT = \\begin{pmatrix}\n",
    "1 & 0 & 0 & 0 \\\\\n",
    "0 & 0 & 0 & 1 \\\\\n",
    "0 & 0 & 1 & 0 \\\\\n",
    "0 & 1 & 0 & 0 \n",
    "\\end{pmatrix}$\n",
    "\n",
    "We have seen how this acts on classical states, but let’s now see how it acts on a qubit in a superposition $\\vert q_0 \\rangle$ (see Note) and $\\vert q_1 \\rangle$ in state $\\vert 0 \\rangle$:\n",
    "\n",
    "$\\vert q_0 \\rangle = \\frac{1}{\\sqrt{2}} (\\vert 0 \\rangle + \\vert 1 \\rangle)$; \n",
    "\n",
    "$\\vert q_1 \\rangle$ = $\\vert 0 \\rangle$\n",
    "\n",
    "The statevector of such system is: $\\begin{bmatrix} \\frac{1}{\\sqrt{2}} & \\frac{1}{\\sqrt{2}} & 0 & 0 \\end{bmatrix}$\n",
    "\n",
    "$\\vert q_0q_1 \\rangle = \\frac{1}{\\sqrt{2}} (\\vert 00 \\rangle + \\vert 01 \\rangle)$ \n",
    "\n",
    "$\\vert q_0q_1 \\rangle$ is not entangled, but if we apply the CNOT gate:\n",
    "\n",
    "$CNOT\\vert q_0q_1 \\rangle = \\frac{1}{\\sqrt{2}} \\begin{bmatrix}\n",
    "1 & 0 & 0 & 0 \\\\\n",
    "0 & 0 & 0 & 1 \\\\\n",
    "0 & 0 & 1 & 0 \\\\\n",
    "0 & 1 & 0 & 0 \n",
    "\\end{bmatrix} \\begin{bmatrix} 1 \\\\ 1 \\\\ 0 \\\\ 0 \\end{bmatrix} = \\begin{bmatrix} 1 \\\\ 0 \\\\ 0 \\\\ 1 \\end{bmatrix} = \\frac{1}{\\sqrt{2}} (\\vert 00 \\rangle + \\vert 11 \\rangle)$\n",
    "\n",
    "As we saw, this is an entangled state.\n",
    "\n",
    "\n",
    "Note: this is known as the $\\vert + \\rangle$ state in the Bloch sphere and can be obtained by applaying an Hadamard gate to $\\vert 0 \\rangle$."
   ]
  },
  {
   "cell_type": "markdown",
   "id": "worthy-diana",
   "metadata": {},
   "source": [
    "## Variational quantum circuits\n",
    "\n",
    "_it looks like trainable model in $\\theta$..._\n",
    "\n",
    "<div>\n",
    "<img src=\"assets/vqc_slide.png\" width=\"750\"/>\n",
    "</div>\n",
    "\n",
    "### How could quantum computing help with ML?\n",
    "\n",
    "**Data**\n",
    "1. speed up sampling from data distributions\n",
    "1. use fewer data samples (e.g., Arunachalam 1701.06806)\n",
    "**Model**\n",
    "1. speed up existing models (Pararo et al. 1401.4997, Low et al. 1402.7359, Allcock et al. 1812.03089)\n",
    "1. design better models (Amin et al. 1601.02036, Benedetti et al. 1906.07682)\n",
    "**Cost**\n",
    "1. speed up optimisation (Wiebe et al. 1204.5242, Rebentrost et al. 1307.0471,\n",
    "Denil & Freitas ∼ 2012 cs.ubc.ca/ ̃nando/)\n",
    "1. find better solutions\n",
    "\n",
    "\n",
    " ### **Can we take advantage from Quantum Machine Learning in High-Energy Physics?**"
   ]
  },
  {
   "cell_type": "markdown",
   "id": "allied-facing",
   "metadata": {},
   "source": [
    "## The strategy"
   ]
  },
  {
   "cell_type": "markdown",
   "id": "usual-paradise",
   "metadata": {},
   "source": [
    "We want to somehow encode our information into qubits, create a relation between them and in the end measure a qubit. That qubit should tell us if the event that it processed is either a <font color='blue'>signal</font> type or <font color='red'>background</font> type of event: either SUSY or SM.\n",
    "\n",
    "We are going to use supervised learning in a strategy similar to the one used in Neural Network:\n",
    "1. Prepare labeled data\n",
    "1. Build a trainable quantum circuit: Variational Quantum Circuit (VQC)\n",
    "1. Train our VQC\n",
    "1. Comparing quantum VS classical: VQC VS BDT\n",
    "1. Conclusions"
   ]
  },
  {
   "cell_type": "markdown",
   "id": "unexpected-delicious",
   "metadata": {},
   "source": [
    "## Software needed"
   ]
  },
  {
   "cell_type": "raw",
   "id": "duplicate-celtic",
   "metadata": {},
   "source": [
    "%%capture\n",
    "!pip install uproot awkward\n",
    "!pip install pennylane\n",
    "!pip install matplotlib\n",
    "!pip install sklearn\n",
    "!pip install pandas\n",
    "!pip install alive-progress"
   ]
  },
  {
   "cell_type": "markdown",
   "id": "caring-joining",
   "metadata": {},
   "source": [
    "## Setup"
   ]
  },
  {
   "cell_type": "code",
   "execution_count": 1,
   "id": "turned-exclusive",
   "metadata": {},
   "outputs": [],
   "source": [
    "import random\n",
    "import uproot\n",
    "import numpy\n",
    "\n",
    "from itertools import chain\n",
    "\n",
    "import pennylane as qml\n",
    "from pennylane import numpy as np\n",
    "\n",
    "from sklearn import decomposition\n",
    "from sklearn import metrics as metrics\n",
    "from sklearn.preprocessing import minmax_scale\n",
    "from sklearn.model_selection import train_test_split\n",
    "\n",
    "import pandas as pd\n",
    "\n",
    "import matplotlib.pyplot as plt\n",
    "\n",
    "from math import log\n",
    "\n",
    "from alive_progress import alive_bar"
   ]
  },
  {
   "cell_type": "markdown",
   "id": "legislative-miracle",
   "metadata": {},
   "source": [
    "## 1. Prepare labeled data"
   ]
  },
  {
   "cell_type": "markdown",
   "id": "injured-rebecca",
   "metadata": {},
   "source": [
    "### loading the data"
   ]
  },
  {
   "cell_type": "code",
   "execution_count": 2,
   "id": "other-angola",
   "metadata": {},
   "outputs": [],
   "source": [
    "path = \"/Users/ketchum/Desktop/STOP_nTuples/\"\n",
    "#path = \"/Volumes/Samsung_T5/STOP_nTuples/\"\n",
    "trainPath = \"nTuples17_nanoAOD_v2021-10-15_train/\"\n",
    "testPath = \"nTuples17_nanoAOD_v2021-10-15_test/\"\n",
    "\n",
    "oneSamplePath = testPath\n",
    "\n",
    "#sgName = \"T2DegStop_deltaM30\"\n",
    "sgName = \"T2DegStop_550_520_bdt\"\n",
    "bkName = \"WJetsToLNu_HT200to400_bdt\"\n",
    "treename=\"bdttree\"\n",
    "\n",
    "myFeatures = [\"Jet1Pt\", \"Met\", \"mt\", \"LepPt\", \"LepEta\", \"LepChg\", \"HT\", \"NbLoose\",\"Njet\", \"JetHBpt\", \"DrJetHBLep\", \"JetHBDeepCSV\",\"BDT\"]\n",
    "branches = [\"XS\",\"Nevt\",\"Event\",\"weight\"]\n",
    "branches.extend(myFeatures)\n",
    "\n",
    "preSel = \"(LepPt < 30) & (Met > 280) & (HT > 200) & (Jet1Pt > 110) & ((DPhiJet1Jet2 < 2.5) | (Jet2Pt < 60)) & (isTight == 1)\""
   ]
  },
  {
   "cell_type": "code",
   "execution_count": 3,
   "id": "polished-occurrence",
   "metadata": {},
   "outputs": [],
   "source": [
    "# load root files\n",
    "sgTree = uproot.open(path + oneSamplePath + sgName+\".root:\"+treename)\n",
    "bkTree = uproot.open(path + oneSamplePath + bkName+\".root:\"+treename)\n",
    "\n",
    "# select important events\n",
    "sgDict = sgTree.arrays(branches,preSel,library=\"np\")\n",
    "bkDict = bkTree.arrays(branches,preSel,library=\"np\")"
   ]
  },
  {
   "cell_type": "markdown",
   "id": "sensitive-grace",
   "metadata": {},
   "source": [
    "### looking into the data"
   ]
  },
  {
   "cell_type": "code",
   "execution_count": 4,
   "id": "coated-dress",
   "metadata": {},
   "outputs": [],
   "source": [
    "sgLepPt = sgDict[\"LepPt\"]\n",
    "sgJet1Pt = sgDict[\"Jet1Pt\"]\n",
    "sgMet = sgDict[\"Met\"]\n",
    "sgmt = sgDict[\"mt\"]\n",
    "sgW = sgDict[\"XS\"]/sgDict[\"Nevt\"]\n",
    "\n",
    "bkLepPt = bkDict[\"LepPt\"]\n",
    "bkJet1Pt = bkDict[\"Jet1Pt\"]\n",
    "bkMet = bkDict[\"Met\"]\n",
    "bkmt = bkDict[\"mt\"]\n",
    "bkW = bkDict[\"XS\"]/bkDict[\"Nevt\"]"
   ]
  },
  {
   "cell_type": "code",
   "execution_count": 5,
   "id": "oriented-respondent",
   "metadata": {},
   "outputs": [
    {
     "data": {
      "image/png": "[encoded data removed]",
      "text/plain": [
       "<Figure size 360x360 with 1 Axes>"
      ]
     },
     "metadata": {
      "needs_background": "light"
     },
     "output_type": "display_data"
    }
   ],
   "source": [
    "plt.rcParams[\"figure.figsize\"] = [5, 5]\n",
    "params = {\"mathtext.default\": \"regular\"}\n",
    "plt.rcParams.update(params)\n",
    "label=[\"Signal\",\"Background\"]\n",
    "binning=np.arange(0,200,5)\n",
    "plt.hist(sgmt, binning, density=True, color = \"blue\", alpha=0.25)\n",
    "plt.hist(bkmt, binning, density=True, color = \"red\" , alpha=0.25) #histtype='step'\n",
    "plt.legend(label, loc='best')\n",
    "plt.xlim([0, 200])\n",
    "plt.xlabel(\"$M_T$ [GeV]\")\n",
    "plt.show()"
   ]
  },
  {
   "cell_type": "code",
   "execution_count": 6,
   "id": "removable-timothy",
   "metadata": {},
   "outputs": [],
   "source": [
    "plt.rcParams['figure.figsize'] = [24, 24]\n",
    "\n",
    "# plot all input variables and BDT output\n",
    "plotInVars = False\n",
    "\n",
    "if plotInVars:\n",
    "    fig, axs = plt.subplots(5, 3)\n",
    "    axs = axs.ravel()\n",
    "    canvas = 0\n",
    "\n",
    "    for feature in myFeatures:\n",
    "        axs[canvas].hist(sgDict[feature], density=True, color = \"blue\", alpha=0.25)\n",
    "        axs[canvas].hist(bkDict[feature], density=True, color = \"red\", alpha=0.25)\n",
    "        axs[canvas].set_title(feature)\n",
    "        canvas+= 1\n",
    "    plt.show()\n",
    "    \n",
    "# Do 2D plots\n",
    "plot2D = False\n",
    "\n",
    "if plot2D:\n",
    "    flist = [\"LepPt\", \"Met\", \"Jet1Pt\",\"mt\",\"BDT\"]\n",
    "    \n",
    "    fig, axs = plt.subplots(len(flist), len(flist))\n",
    "    fig.subplots_adjust(hspace = 0.5, wspace=0.5)\n",
    "    axs = axs.ravel()\n",
    "    canvas = 0\n",
    "\n",
    "    for xFeature in flist:\n",
    "        for yFeature in flist:\n",
    "            axs[canvas].scatter(sgDict[xFeature], sgDict[yFeature], color = \"blue\", alpha=0.25)\n",
    "            axs[canvas].scatter(bkDict[xFeature], bkDict[yFeature], color = \"red\", alpha=0.25)\n",
    "            axs[canvas].set_title(xFeature+\" VS \"+yFeature)\n",
    "            canvas+= 1\n",
    "    plt.show()"
   ]
  },
  {
   "cell_type": "markdown",
   "id": "unexpected-telling",
   "metadata": {},
   "source": [
    "### labeling the data"
   ]
  },
  {
   "cell_type": "code",
   "execution_count": 7,
   "id": "printable-bracelet",
   "metadata": {},
   "outputs": [],
   "source": [
    "# Fix signal XS\n",
    "sgDict[\"XS\"] = numpy.ones(sgJet1Pt.size)\n",
    "\n",
    "## Add categoty: 1 for signal and -1 for background\n",
    "sgDict[\"category\"] = numpy.ones(sgJet1Pt.size)\n",
    "bkDict[\"category\"] = -numpy.ones(bkJet1Pt.size)"
   ]
  },
  {
   "cell_type": "code",
   "execution_count": 8,
   "id": "found-premiere",
   "metadata": {},
   "outputs": [
    {
     "data": {
      "text/html": [
       "<div>\n",
       "<style scoped>\n",
       "    .dataframe tbody tr th:only-of-type {\n",
       "        vertical-align: middle;\n",
       "    }\n",
       "\n",
       "    .dataframe tbody tr th {\n",
       "        vertical-align: top;\n",
       "    }\n",
       "\n",
       "    .dataframe thead th {\n",
       "        text-align: right;\n",
       "    }\n",
       "</style>\n",
       "<table border=\"1\" class=\"dataframe\">\n",
       "  <thead>\n",
       "    <tr style=\"text-align: right;\">\n",
       "      <th></th>\n",
       "      <th>XS</th>\n",
       "      <th>Nevt</th>\n",
       "      <th>Event</th>\n",
       "      <th>weight</th>\n",
       "      <th>Jet1Pt</th>\n",
       "      <th>Met</th>\n",
       "      <th>mt</th>\n",
       "      <th>LepPt</th>\n",
       "      <th>LepEta</th>\n",
       "      <th>LepChg</th>\n",
       "      <th>HT</th>\n",
       "      <th>NbLoose</th>\n",
       "      <th>Njet</th>\n",
       "      <th>JetHBpt</th>\n",
       "      <th>DrJetHBLep</th>\n",
       "      <th>JetHBDeepCSV</th>\n",
       "      <th>BDT</th>\n",
       "      <th>category</th>\n",
       "    </tr>\n",
       "  </thead>\n",
       "  <tbody>\n",
       "    <tr>\n",
       "      <th>0</th>\n",
       "      <td>1.0</td>\n",
       "      <td>87155.0</td>\n",
       "      <td>374123372</td>\n",
       "      <td>1.925884e-06</td>\n",
       "      <td>328.250</td>\n",
       "      <td>338.813507</td>\n",
       "      <td>32.445465</td>\n",
       "      <td>9.298288</td>\n",
       "      <td>-1.311279</td>\n",
       "      <td>1.0</td>\n",
       "      <td>385.87500</td>\n",
       "      <td>0.0</td>\n",
       "      <td>2.0</td>\n",
       "      <td>57.62500</td>\n",
       "      <td>2.036685</td>\n",
       "      <td>0.101501</td>\n",
       "      <td>-0.040352</td>\n",
       "      <td>1.0</td>\n",
       "    </tr>\n",
       "    <tr>\n",
       "      <th>1</th>\n",
       "      <td>1.0</td>\n",
       "      <td>87155.0</td>\n",
       "      <td>374123482</td>\n",
       "      <td>5.222981e-07</td>\n",
       "      <td>225.125</td>\n",
       "      <td>286.211121</td>\n",
       "      <td>10.798179</td>\n",
       "      <td>16.495022</td>\n",
       "      <td>-0.524292</td>\n",
       "      <td>1.0</td>\n",
       "      <td>225.12500</td>\n",
       "      <td>0.0</td>\n",
       "      <td>1.0</td>\n",
       "      <td>225.12500</td>\n",
       "      <td>3.967097</td>\n",
       "      <td>0.023834</td>\n",
       "      <td>-0.055420</td>\n",
       "      <td>1.0</td>\n",
       "    </tr>\n",
       "    <tr>\n",
       "      <th>2</th>\n",
       "      <td>1.0</td>\n",
       "      <td>87155.0</td>\n",
       "      <td>374123588</td>\n",
       "      <td>2.045012e-06</td>\n",
       "      <td>301.500</td>\n",
       "      <td>307.996582</td>\n",
       "      <td>20.827509</td>\n",
       "      <td>15.660460</td>\n",
       "      <td>-0.959717</td>\n",
       "      <td>-1.0</td>\n",
       "      <td>301.50000</td>\n",
       "      <td>0.0</td>\n",
       "      <td>1.0</td>\n",
       "      <td>301.50000</td>\n",
       "      <td>3.419575</td>\n",
       "      <td>0.027069</td>\n",
       "      <td>-0.033337</td>\n",
       "      <td>1.0</td>\n",
       "    </tr>\n",
       "    <tr>\n",
       "      <th>3</th>\n",
       "      <td>1.0</td>\n",
       "      <td>87155.0</td>\n",
       "      <td>374123626</td>\n",
       "      <td>1.607914e-06</td>\n",
       "      <td>356.250</td>\n",
       "      <td>287.643860</td>\n",
       "      <td>53.294586</td>\n",
       "      <td>4.579830</td>\n",
       "      <td>-1.618896</td>\n",
       "      <td>1.0</td>\n",
       "      <td>356.25000</td>\n",
       "      <td>0.0</td>\n",
       "      <td>1.0</td>\n",
       "      <td>356.25000</td>\n",
       "      <td>1.642915</td>\n",
       "      <td>0.020233</td>\n",
       "      <td>-0.033937</td>\n",
       "      <td>1.0</td>\n",
       "    </tr>\n",
       "    <tr>\n",
       "      <th>4</th>\n",
       "      <td>1.0</td>\n",
       "      <td>87155.0</td>\n",
       "      <td>374123630</td>\n",
       "      <td>7.602142e-07</td>\n",
       "      <td>272.500</td>\n",
       "      <td>280.310059</td>\n",
       "      <td>23.213980</td>\n",
       "      <td>15.694098</td>\n",
       "      <td>0.392944</td>\n",
       "      <td>1.0</td>\n",
       "      <td>444.12500</td>\n",
       "      <td>0.0</td>\n",
       "      <td>3.0</td>\n",
       "      <td>116.62500</td>\n",
       "      <td>1.480006</td>\n",
       "      <td>0.053009</td>\n",
       "      <td>-0.088034</td>\n",
       "      <td>1.0</td>\n",
       "    </tr>\n",
       "    <tr>\n",
       "      <th>...</th>\n",
       "      <td>...</td>\n",
       "      <td>...</td>\n",
       "      <td>...</td>\n",
       "      <td>...</td>\n",
       "      <td>...</td>\n",
       "      <td>...</td>\n",
       "      <td>...</td>\n",
       "      <td>...</td>\n",
       "      <td>...</td>\n",
       "      <td>...</td>\n",
       "      <td>...</td>\n",
       "      <td>...</td>\n",
       "      <td>...</td>\n",
       "      <td>...</td>\n",
       "      <td>...</td>\n",
       "      <td>...</td>\n",
       "      <td>...</td>\n",
       "      <td>...</td>\n",
       "    </tr>\n",
       "    <tr>\n",
       "      <th>3446</th>\n",
       "      <td>1.0</td>\n",
       "      <td>87155.0</td>\n",
       "      <td>420187634</td>\n",
       "      <td>1.635522e-06</td>\n",
       "      <td>275.750</td>\n",
       "      <td>322.343079</td>\n",
       "      <td>147.370346</td>\n",
       "      <td>18.416704</td>\n",
       "      <td>0.764893</td>\n",
       "      <td>1.0</td>\n",
       "      <td>449.25000</td>\n",
       "      <td>1.0</td>\n",
       "      <td>3.0</td>\n",
       "      <td>124.62500</td>\n",
       "      <td>1.259977</td>\n",
       "      <td>0.156128</td>\n",
       "      <td>0.066372</td>\n",
       "      <td>1.0</td>\n",
       "    </tr>\n",
       "    <tr>\n",
       "      <th>3447</th>\n",
       "      <td>1.0</td>\n",
       "      <td>87155.0</td>\n",
       "      <td>420187720</td>\n",
       "      <td>2.002629e-06</td>\n",
       "      <td>403.500</td>\n",
       "      <td>413.531799</td>\n",
       "      <td>12.847763</td>\n",
       "      <td>8.921799</td>\n",
       "      <td>1.460449</td>\n",
       "      <td>-1.0</td>\n",
       "      <td>403.50000</td>\n",
       "      <td>0.0</td>\n",
       "      <td>1.0</td>\n",
       "      <td>403.50000</td>\n",
       "      <td>4.561334</td>\n",
       "      <td>0.038330</td>\n",
       "      <td>0.166194</td>\n",
       "      <td>1.0</td>\n",
       "    </tr>\n",
       "    <tr>\n",
       "      <th>3448</th>\n",
       "      <td>1.0</td>\n",
       "      <td>87155.0</td>\n",
       "      <td>421149834</td>\n",
       "      <td>9.760236e-07</td>\n",
       "      <td>300.750</td>\n",
       "      <td>317.044922</td>\n",
       "      <td>12.325584</td>\n",
       "      <td>19.914648</td>\n",
       "      <td>-0.663086</td>\n",
       "      <td>1.0</td>\n",
       "      <td>756.59375</td>\n",
       "      <td>0.0</td>\n",
       "      <td>5.0</td>\n",
       "      <td>227.50000</td>\n",
       "      <td>3.025809</td>\n",
       "      <td>0.060730</td>\n",
       "      <td>-0.094158</td>\n",
       "      <td>1.0</td>\n",
       "    </tr>\n",
       "    <tr>\n",
       "      <th>3449</th>\n",
       "      <td>1.0</td>\n",
       "      <td>87155.0</td>\n",
       "      <td>421149896</td>\n",
       "      <td>2.113200e-06</td>\n",
       "      <td>309.000</td>\n",
       "      <td>293.009735</td>\n",
       "      <td>39.851105</td>\n",
       "      <td>3.594147</td>\n",
       "      <td>0.234131</td>\n",
       "      <td>1.0</td>\n",
       "      <td>309.00000</td>\n",
       "      <td>0.0</td>\n",
       "      <td>1.0</td>\n",
       "      <td>309.00000</td>\n",
       "      <td>3.003863</td>\n",
       "      <td>0.083862</td>\n",
       "      <td>0.053850</td>\n",
       "      <td>1.0</td>\n",
       "    </tr>\n",
       "    <tr>\n",
       "      <th>3450</th>\n",
       "      <td>1.0</td>\n",
       "      <td>87155.0</td>\n",
       "      <td>421150558</td>\n",
       "      <td>2.218124e-06</td>\n",
       "      <td>320.500</td>\n",
       "      <td>340.050690</td>\n",
       "      <td>158.953018</td>\n",
       "      <td>18.916368</td>\n",
       "      <td>1.662598</td>\n",
       "      <td>-1.0</td>\n",
       "      <td>451.65625</td>\n",
       "      <td>2.0</td>\n",
       "      <td>3.0</td>\n",
       "      <td>41.15625</td>\n",
       "      <td>3.148084</td>\n",
       "      <td>0.738281</td>\n",
       "      <td>-0.034790</td>\n",
       "      <td>1.0</td>\n",
       "    </tr>\n",
       "  </tbody>\n",
       "</table>\n",
       "<p>3451 rows × 18 columns</p>\n",
       "</div>"
      ],
      "text/plain": [
       "       XS     Nevt      Event        weight   Jet1Pt         Met          mt  \\\n",
       "0     1.0  87155.0  374123372  1.925884e-06  328.250  338.813507   32.445465   \n",
       "1     1.0  87155.0  374123482  5.222981e-07  225.125  286.211121   10.798179   \n",
       "2     1.0  87155.0  374123588  2.045012e-06  301.500  307.996582   20.827509   \n",
       "3     1.0  87155.0  374123626  1.607914e-06  356.250  287.643860   53.294586   \n",
       "4     1.0  87155.0  374123630  7.602142e-07  272.500  280.310059   23.213980   \n",
       "...   ...      ...        ...           ...      ...         ...         ...   \n",
       "3446  1.0  87155.0  420187634  1.635522e-06  275.750  322.343079  147.370346   \n",
       "3447  1.0  87155.0  420187720  2.002629e-06  403.500  413.531799   12.847763   \n",
       "3448  1.0  87155.0  421149834  9.760236e-07  300.750  317.044922   12.325584   \n",
       "3449  1.0  87155.0  421149896  2.113200e-06  309.000  293.009735   39.851105   \n",
       "3450  1.0  87155.0  421150558  2.218124e-06  320.500  340.050690  158.953018   \n",
       "\n",
       "          LepPt    LepEta  LepChg         HT  NbLoose  Njet    JetHBpt  \\\n",
       "0      9.298288 -1.311279     1.0  385.87500      0.0   2.0   57.62500   \n",
       "1     16.495022 -0.524292     1.0  225.12500      0.0   1.0  225.12500   \n",
       "2     15.660460 -0.959717    -1.0  301.50000      0.0   1.0  301.50000   \n",
       "3      4.579830 -1.618896     1.0  356.25000      0.0   1.0  356.25000   \n",
       "4     15.694098  0.392944     1.0  444.12500      0.0   3.0  116.62500   \n",
       "...         ...       ...     ...        ...      ...   ...        ...   \n",
       "3446  18.416704  0.764893     1.0  449.25000      1.0   3.0  124.62500   \n",
       "3447   8.921799  1.460449    -1.0  403.50000      0.0   1.0  403.50000   \n",
       "3448  19.914648 -0.663086     1.0  756.59375      0.0   5.0  227.50000   \n",
       "3449   3.594147  0.234131     1.0  309.00000      0.0   1.0  309.00000   \n",
       "3450  18.916368  1.662598    -1.0  451.65625      2.0   3.0   41.15625   \n",
       "\n",
       "      DrJetHBLep  JetHBDeepCSV       BDT  category  \n",
       "0       2.036685      0.101501 -0.040352       1.0  \n",
       "1       3.967097      0.023834 -0.055420       1.0  \n",
       "2       3.419575      0.027069 -0.033337       1.0  \n",
       "3       1.642915      0.020233 -0.033937       1.0  \n",
       "4       1.480006      0.053009 -0.088034       1.0  \n",
       "...          ...           ...       ...       ...  \n",
       "3446    1.259977      0.156128  0.066372       1.0  \n",
       "3447    4.561334      0.038330  0.166194       1.0  \n",
       "3448    3.025809      0.060730 -0.094158       1.0  \n",
       "3449    3.003863      0.083862  0.053850       1.0  \n",
       "3450    3.148084      0.738281 -0.034790       1.0  \n",
       "\n",
       "[3451 rows x 18 columns]"
      ]
     },
     "metadata": {},
     "output_type": "display_data"
    }
   ],
   "source": [
    "sgDF = pd.DataFrame(sgDict)\n",
    "display(sgDF)"
   ]
  },
  {
   "cell_type": "code",
   "execution_count": 9,
   "id": "talented-business",
   "metadata": {
    "scrolled": false
   },
   "outputs": [
    {
     "data": {
      "text/html": [
       "<div>\n",
       "<style scoped>\n",
       "    .dataframe tbody tr th:only-of-type {\n",
       "        vertical-align: middle;\n",
       "    }\n",
       "\n",
       "    .dataframe tbody tr th {\n",
       "        vertical-align: top;\n",
       "    }\n",
       "\n",
       "    .dataframe thead th {\n",
       "        text-align: right;\n",
       "    }\n",
       "</style>\n",
       "<table border=\"1\" class=\"dataframe\">\n",
       "  <thead>\n",
       "    <tr style=\"text-align: right;\">\n",
       "      <th></th>\n",
       "      <th>XS</th>\n",
       "      <th>Nevt</th>\n",
       "      <th>Event</th>\n",
       "      <th>weight</th>\n",
       "      <th>Jet1Pt</th>\n",
       "      <th>Met</th>\n",
       "      <th>mt</th>\n",
       "      <th>LepPt</th>\n",
       "      <th>LepEta</th>\n",
       "      <th>LepChg</th>\n",
       "      <th>HT</th>\n",
       "      <th>NbLoose</th>\n",
       "      <th>Njet</th>\n",
       "      <th>JetHBpt</th>\n",
       "      <th>DrJetHBLep</th>\n",
       "      <th>JetHBDeepCSV</th>\n",
       "      <th>BDT</th>\n",
       "      <th>category</th>\n",
       "    </tr>\n",
       "  </thead>\n",
       "  <tbody>\n",
       "    <tr>\n",
       "      <th>0</th>\n",
       "      <td>407.899994</td>\n",
       "      <td>21250516.0</td>\n",
       "      <td>189048</td>\n",
       "      <td>0.000036</td>\n",
       "      <td>274.500</td>\n",
       "      <td>297.068298</td>\n",
       "      <td>79.009308</td>\n",
       "      <td>9.031775</td>\n",
       "      <td>-0.397217</td>\n",
       "      <td>1.0</td>\n",
       "      <td>306.312500</td>\n",
       "      <td>1.0</td>\n",
       "      <td>2.0</td>\n",
       "      <td>274.50000</td>\n",
       "      <td>2.148179</td>\n",
       "      <td>0.363770</td>\n",
       "      <td>-0.118339</td>\n",
       "      <td>-1.0</td>\n",
       "    </tr>\n",
       "    <tr>\n",
       "      <th>1</th>\n",
       "      <td>407.899994</td>\n",
       "      <td>21250516.0</td>\n",
       "      <td>90293336</td>\n",
       "      <td>0.000018</td>\n",
       "      <td>268.250</td>\n",
       "      <td>286.475708</td>\n",
       "      <td>84.348068</td>\n",
       "      <td>9.050957</td>\n",
       "      <td>-2.047852</td>\n",
       "      <td>1.0</td>\n",
       "      <td>268.250000</td>\n",
       "      <td>0.0</td>\n",
       "      <td>1.0</td>\n",
       "      <td>268.25000</td>\n",
       "      <td>1.234227</td>\n",
       "      <td>0.025406</td>\n",
       "      <td>-0.305103</td>\n",
       "      <td>-1.0</td>\n",
       "    </tr>\n",
       "    <tr>\n",
       "      <th>2</th>\n",
       "      <td>407.899994</td>\n",
       "      <td>21250516.0</td>\n",
       "      <td>90466850</td>\n",
       "      <td>0.000009</td>\n",
       "      <td>246.000</td>\n",
       "      <td>336.930298</td>\n",
       "      <td>37.020103</td>\n",
       "      <td>16.162477</td>\n",
       "      <td>2.054688</td>\n",
       "      <td>1.0</td>\n",
       "      <td>333.062500</td>\n",
       "      <td>1.0</td>\n",
       "      <td>3.0</td>\n",
       "      <td>246.00000</td>\n",
       "      <td>2.814651</td>\n",
       "      <td>0.217407</td>\n",
       "      <td>-0.319604</td>\n",
       "      <td>-1.0</td>\n",
       "    </tr>\n",
       "    <tr>\n",
       "      <th>3</th>\n",
       "      <td>407.899994</td>\n",
       "      <td>21250516.0</td>\n",
       "      <td>90469736</td>\n",
       "      <td>0.000016</td>\n",
       "      <td>195.375</td>\n",
       "      <td>295.634155</td>\n",
       "      <td>35.654419</td>\n",
       "      <td>15.941186</td>\n",
       "      <td>1.597412</td>\n",
       "      <td>1.0</td>\n",
       "      <td>236.468750</td>\n",
       "      <td>0.0</td>\n",
       "      <td>2.0</td>\n",
       "      <td>41.09375</td>\n",
       "      <td>0.065507</td>\n",
       "      <td>0.044342</td>\n",
       "      <td>-0.207638</td>\n",
       "      <td>-1.0</td>\n",
       "    </tr>\n",
       "    <tr>\n",
       "      <th>4</th>\n",
       "      <td>407.899994</td>\n",
       "      <td>21250516.0</td>\n",
       "      <td>91567654</td>\n",
       "      <td>0.000013</td>\n",
       "      <td>273.500</td>\n",
       "      <td>287.097992</td>\n",
       "      <td>52.644104</td>\n",
       "      <td>25.188814</td>\n",
       "      <td>-0.401367</td>\n",
       "      <td>1.0</td>\n",
       "      <td>311.343750</td>\n",
       "      <td>0.0</td>\n",
       "      <td>2.0</td>\n",
       "      <td>273.50000</td>\n",
       "      <td>2.508552</td>\n",
       "      <td>0.091248</td>\n",
       "      <td>-0.280593</td>\n",
       "      <td>-1.0</td>\n",
       "    </tr>\n",
       "    <tr>\n",
       "      <th>...</th>\n",
       "      <td>...</td>\n",
       "      <td>...</td>\n",
       "      <td>...</td>\n",
       "      <td>...</td>\n",
       "      <td>...</td>\n",
       "      <td>...</td>\n",
       "      <td>...</td>\n",
       "      <td>...</td>\n",
       "      <td>...</td>\n",
       "      <td>...</td>\n",
       "      <td>...</td>\n",
       "      <td>...</td>\n",
       "      <td>...</td>\n",
       "      <td>...</td>\n",
       "      <td>...</td>\n",
       "      <td>...</td>\n",
       "      <td>...</td>\n",
       "      <td>...</td>\n",
       "    </tr>\n",
       "    <tr>\n",
       "      <th>14317</th>\n",
       "      <td>407.899994</td>\n",
       "      <td>21250516.0</td>\n",
       "      <td>152631090</td>\n",
       "      <td>0.000022</td>\n",
       "      <td>248.750</td>\n",
       "      <td>314.892456</td>\n",
       "      <td>21.300955</td>\n",
       "      <td>18.836704</td>\n",
       "      <td>0.046455</td>\n",
       "      <td>1.0</td>\n",
       "      <td>248.750000</td>\n",
       "      <td>0.0</td>\n",
       "      <td>1.0</td>\n",
       "      <td>248.75000</td>\n",
       "      <td>2.892932</td>\n",
       "      <td>0.020370</td>\n",
       "      <td>-0.115660</td>\n",
       "      <td>-1.0</td>\n",
       "    </tr>\n",
       "    <tr>\n",
       "      <th>14318</th>\n",
       "      <td>407.899994</td>\n",
       "      <td>21250516.0</td>\n",
       "      <td>152643054</td>\n",
       "      <td>0.000036</td>\n",
       "      <td>170.250</td>\n",
       "      <td>286.796326</td>\n",
       "      <td>182.189713</td>\n",
       "      <td>29.295141</td>\n",
       "      <td>-0.090790</td>\n",
       "      <td>-1.0</td>\n",
       "      <td>293.515625</td>\n",
       "      <td>1.0</td>\n",
       "      <td>3.0</td>\n",
       "      <td>91.62500</td>\n",
       "      <td>1.816064</td>\n",
       "      <td>0.227783</td>\n",
       "      <td>0.082563</td>\n",
       "      <td>-1.0</td>\n",
       "    </tr>\n",
       "    <tr>\n",
       "      <th>14319</th>\n",
       "      <td>407.899994</td>\n",
       "      <td>21250516.0</td>\n",
       "      <td>151914248</td>\n",
       "      <td>0.000017</td>\n",
       "      <td>365.000</td>\n",
       "      <td>325.963867</td>\n",
       "      <td>50.323734</td>\n",
       "      <td>21.449633</td>\n",
       "      <td>0.288025</td>\n",
       "      <td>-1.0</td>\n",
       "      <td>365.000000</td>\n",
       "      <td>0.0</td>\n",
       "      <td>1.0</td>\n",
       "      <td>365.00000</td>\n",
       "      <td>2.629984</td>\n",
       "      <td>0.012329</td>\n",
       "      <td>-0.080049</td>\n",
       "      <td>-1.0</td>\n",
       "    </tr>\n",
       "    <tr>\n",
       "      <th>14320</th>\n",
       "      <td>407.899994</td>\n",
       "      <td>21250516.0</td>\n",
       "      <td>151988422</td>\n",
       "      <td>0.000015</td>\n",
       "      <td>382.250</td>\n",
       "      <td>347.942535</td>\n",
       "      <td>86.076271</td>\n",
       "      <td>22.533623</td>\n",
       "      <td>-2.228027</td>\n",
       "      <td>1.0</td>\n",
       "      <td>382.250000</td>\n",
       "      <td>0.0</td>\n",
       "      <td>1.0</td>\n",
       "      <td>382.25000</td>\n",
       "      <td>2.369875</td>\n",
       "      <td>0.054871</td>\n",
       "      <td>-0.371374</td>\n",
       "      <td>-1.0</td>\n",
       "    </tr>\n",
       "    <tr>\n",
       "      <th>14321</th>\n",
       "      <td>407.899994</td>\n",
       "      <td>21250516.0</td>\n",
       "      <td>167894232</td>\n",
       "      <td>0.000022</td>\n",
       "      <td>314.500</td>\n",
       "      <td>292.247131</td>\n",
       "      <td>65.027214</td>\n",
       "      <td>12.708917</td>\n",
       "      <td>2.434082</td>\n",
       "      <td>1.0</td>\n",
       "      <td>314.500000</td>\n",
       "      <td>0.0</td>\n",
       "      <td>1.0</td>\n",
       "      <td>314.50000</td>\n",
       "      <td>2.705287</td>\n",
       "      <td>0.019730</td>\n",
       "      <td>-0.313612</td>\n",
       "      <td>-1.0</td>\n",
       "    </tr>\n",
       "  </tbody>\n",
       "</table>\n",
       "<p>14322 rows × 18 columns</p>\n",
       "</div>"
      ],
      "text/plain": [
       "               XS        Nevt      Event    weight   Jet1Pt         Met  \\\n",
       "0      407.899994  21250516.0     189048  0.000036  274.500  297.068298   \n",
       "1      407.899994  21250516.0   90293336  0.000018  268.250  286.475708   \n",
       "2      407.899994  21250516.0   90466850  0.000009  246.000  336.930298   \n",
       "3      407.899994  21250516.0   90469736  0.000016  195.375  295.634155   \n",
       "4      407.899994  21250516.0   91567654  0.000013  273.500  287.097992   \n",
       "...           ...         ...        ...       ...      ...         ...   \n",
       "14317  407.899994  21250516.0  152631090  0.000022  248.750  314.892456   \n",
       "14318  407.899994  21250516.0  152643054  0.000036  170.250  286.796326   \n",
       "14319  407.899994  21250516.0  151914248  0.000017  365.000  325.963867   \n",
       "14320  407.899994  21250516.0  151988422  0.000015  382.250  347.942535   \n",
       "14321  407.899994  21250516.0  167894232  0.000022  314.500  292.247131   \n",
       "\n",
       "               mt      LepPt    LepEta  LepChg          HT  NbLoose  Njet  \\\n",
       "0       79.009308   9.031775 -0.397217     1.0  306.312500      1.0   2.0   \n",
       "1       84.348068   9.050957 -2.047852     1.0  268.250000      0.0   1.0   \n",
       "2       37.020103  16.162477  2.054688     1.0  333.062500      1.0   3.0   \n",
       "3       35.654419  15.941186  1.597412     1.0  236.468750      0.0   2.0   \n",
       "4       52.644104  25.188814 -0.401367     1.0  311.343750      0.0   2.0   \n",
       "...           ...        ...       ...     ...         ...      ...   ...   \n",
       "14317   21.300955  18.836704  0.046455     1.0  248.750000      0.0   1.0   \n",
       "14318  182.189713  29.295141 -0.090790    -1.0  293.515625      1.0   3.0   \n",
       "14319   50.323734  21.449633  0.288025    -1.0  365.000000      0.0   1.0   \n",
       "14320   86.076271  22.533623 -2.228027     1.0  382.250000      0.0   1.0   \n",
       "14321   65.027214  12.708917  2.434082     1.0  314.500000      0.0   1.0   \n",
       "\n",
       "         JetHBpt  DrJetHBLep  JetHBDeepCSV       BDT  category  \n",
       "0      274.50000    2.148179      0.363770 -0.118339      -1.0  \n",
       "1      268.25000    1.234227      0.025406 -0.305103      -1.0  \n",
       "2      246.00000    2.814651      0.217407 -0.319604      -1.0  \n",
       "3       41.09375    0.065507      0.044342 -0.207638      -1.0  \n",
       "4      273.50000    2.508552      0.091248 -0.280593      -1.0  \n",
       "...          ...         ...           ...       ...       ...  \n",
       "14317  248.75000    2.892932      0.020370 -0.115660      -1.0  \n",
       "14318   91.62500    1.816064      0.227783  0.082563      -1.0  \n",
       "14319  365.00000    2.629984      0.012329 -0.080049      -1.0  \n",
       "14320  382.25000    2.369875      0.054871 -0.371374      -1.0  \n",
       "14321  314.50000    2.705287      0.019730 -0.313612      -1.0  \n",
       "\n",
       "[14322 rows x 18 columns]"
      ]
     },
     "metadata": {},
     "output_type": "display_data"
    }
   ],
   "source": [
    "bkDF = pd.DataFrame(bkDict)\n",
    "display(bkDF)"
   ]
  },
  {
   "cell_type": "markdown",
   "id": "listed-subdivision",
   "metadata": {},
   "source": [
    "### preparing data for our quantum circuit"
   ]
  },
  {
   "cell_type": "code",
   "execution_count": 10,
   "id": "earlier-brooks",
   "metadata": {},
   "outputs": [],
   "source": [
    "def dataForQDevice(n_evts, sampleDict, features):\n",
    "    tensor = np.zeros([n_evts,len(features)])\n",
    "    for ev in range(0,n_evts):\n",
    "        event = np.zeros([1,len(features)])\n",
    "        for feature in range(0,len(features)):\n",
    "            event[0][feature] = sampleDict[features[feature]][ev]\n",
    "            #event[0][feature] = sampleDict[features[feature]][ev]*sampleDict[\"XS\"][ev]/n_evts\n",
    "        tensor[ev] = event\n",
    "    \n",
    "    return tensor"
   ]
  },
  {
   "cell_type": "code",
   "execution_count": 11,
   "id": "affecting-myrtle",
   "metadata": {},
   "outputs": [],
   "source": [
    "# events to train\n",
    "n_evts = 512\n",
    "\n",
    "features   = [\"LepPt\", \"Met\", \"Jet1Pt\",\"mt\",\"HT\",\"JetHBpt\"]\n",
    "n_features = len(features)\n",
    "weights    = [\"XS\",\"Nevt\"]\n",
    "features.extend(weights)\n",
    "\n",
    "sg_evts = n_evts # use sgJet1Pt.size if you want to use the complete sample size\n",
    "bk_evts = n_evts # use bkJet1Pt.size if ...\n",
    "\n",
    "# get events to train in the VQC - features\n",
    "X0 = dataForQDevice(sg_evts,sgDict,features)\n",
    "X1 = dataForQDevice(bk_evts,bkDict,features)\n",
    "\n",
    "# events category\n",
    "Y0 = np.array(sgDict[\"category\"][:sg_evts])\n",
    "Y1 = np.array(bkDict[\"category\"][:bk_evts])\n",
    "\n",
    "# events weight\n",
    "W0 = np.array(sgDict[\"XS\"][:sg_evts])/np.array(sgDict[\"Nevt\"][:sg_evts])\n",
    "W1 = np.array(bkDict[\"XS\"][:bk_evts])/np.array(bkDict[\"Nevt\"][:bk_evts])\n",
    "\n",
    "X = np.concatenate([X0,X1], axis=0)\n",
    "Y = np.concatenate([Y0,Y1], axis=0)\n",
    "W = np.concatenate([W0,W1], axis=0)"
   ]
  },
  {
   "cell_type": "markdown",
   "id": "initial-fishing",
   "metadata": {},
   "source": [
    "### normalizing data for the quantum model\n",
    "\n",
    "We are going to be performing rotations on the qubits, the idea is to encode our data into **angles** and perform rotations until our final measurment gives us the predicted category for the event."
   ]
  },
  {
   "cell_type": "code",
   "execution_count": 12,
   "id": "isolated-peeing",
   "metadata": {},
   "outputs": [],
   "source": [
    "# normalize features\n",
    "X[:,:-2] = minmax_scale(X[:,:-2],feature_range=(0, numpy.pi))\n",
    "\n",
    "# split data into train + validation and test\n",
    "X_train_val , X_test , y_train_val , y_test=train_test_split(X , Y , test_size=0.2)"
   ]
  },
  {
   "cell_type": "markdown",
   "id": "composite-novelty",
   "metadata": {},
   "source": [
    "## 2. Build a trainable quantum circuit: Variational Quantum Circuit (VQC)"
   ]
  },
  {
   "cell_type": "code",
   "execution_count": 13,
   "id": "union-spotlight",
   "metadata": {},
   "outputs": [],
   "source": [
    "# we enconde each feature in a qubit\n",
    "n_qubits = n_features\n",
    "\n",
    "# start a quantum device with n_features qubits\n",
    "dev = qml.device('default.qubit', wires=n_qubits) # qml.device('qiskit.aer', wires=n_qubits)\n",
    "                                                  # if you want to use IBM's qiskit"
   ]
  },
  {
   "cell_type": "markdown",
   "id": "prime-alliance",
   "metadata": {},
   "source": [
    "### angle embedding\n",
    "_Encodes **N** features into the **rotation angles** of **n qubits**, where N≤n._\n",
    "\n",
    "This is the first step into turning our data into quantum information."
   ]
  },
  {
   "cell_type": "markdown",
   "id": "downtown-wells",
   "metadata": {},
   "source": [
    "### strongly entangling layers\n",
    "\n",
    "_Layers consisting of single qubit rotations and entanglers, inspired by the circuit-centric classifier design [arXiv:1804.00633](https://arxiv.org/abs/1804.00633)_\n",
    "\n",
    "<div>\n",
    "<img src=\"assets/stronggly_entangling_layers.png\" width=\"750\"/>\n",
    "</div>"
   ]
  },
  {
   "cell_type": "code",
   "execution_count": 14,
   "id": "searching-sunset",
   "metadata": {},
   "outputs": [],
   "source": [
    "# quantum circuit\n",
    "@qml.qnode(dev)\n",
    "def circuit(weights, x=None):\n",
    "    qml.templates.AngleEmbedding(x, wires=range(n_qubits))\n",
    "    qml.templates.StronglyEntanglingLayers(weights, wires=range(n_qubits))\n",
    "    return qml.expval(qml.PauliZ(wires=0))\n",
    "\n",
    "# variational quantum classifier\n",
    "def variational_classifier(theta_weights, theta_bias, x=None):\n",
    "    weights=theta_weights\n",
    "    bias=theta_bias\n",
    "    return circuit(weights, x=x)+bias"
   ]
  },
  {
   "cell_type": "code",
   "execution_count": 15,
   "id": "chemical-albania",
   "metadata": {},
   "outputs": [],
   "source": [
    "# number of quantum layers\n",
    "n_layers = 3\n",
    "\n",
    "# draw random quantum node weights / initial weights\n",
    "theta_weights = 0.01 * np.random.randn(n_layers, n_qubits, 3, requires_grad=True)\n",
    "theta_bias = np.array(0.0, requires_grad=True)\n",
    "circuit(theta_weights, X[2,:-2])\n",
    "\n",
    "plotCircuit = False\n",
    "if plotCircuit:\n",
    "    drawer = qml.draw(circuit)\n",
    "    print(qml.draw(circuit)(theta_weights, X[2,:-2]))\n",
    "    plt.rcParams['figure.figsize'] = [10,5]\n",
    "    qml.drawer.use_style('black_white')\n",
    "    fig, ax = qml.draw_mpl(circuit)(theta_weights, X_test[2,:-2])\n",
    "    fig.show()"
   ]
  },
  {
   "cell_type": "markdown",
   "id": "retained-oregon",
   "metadata": {},
   "source": [
    "### our trainable circuit"
   ]
  },
  {
   "cell_type": "markdown",
   "id": "still-myanmar",
   "metadata": {},
   "source": [
    "<div>\n",
    "<img src=\"assets/Qiskit_diagram_labeled.png\" width=\"1000\"/>\n",
    "</div>"
   ]
  },
  {
   "cell_type": "markdown",
   "id": "verbal-chart",
   "metadata": {},
   "source": [
    "## 3. Train our VQC"
   ]
  },
  {
   "cell_type": "code",
   "execution_count": 16,
   "id": "private-friendship",
   "metadata": {},
   "outputs": [],
   "source": [
    "# split into train and validation\n",
    "X_train , X_val , y_train , y_val = train_test_split(X_train_val, y_train_val, test_size =0.20)\n",
    "\n",
    "# pca\n",
    "doPCA=False\n",
    "\n",
    "if doPCA:\n",
    "    pca = decomposition.PCA(n_components=len(features)).fit(X_train)\n",
    "    X_train = pca.transform(X_train)\n",
    "    X_val = pca.transform(X_val)\n",
    "\n",
    "data_train = list(zip(X_train, y_train))\n",
    "data_val  = list(zip(X_val, y_val))\n",
    "\n",
    "# select learning batch size\n",
    "batch_size = 8\n",
    "\n",
    "# calculate number of batches\n",
    "batches = len(X_train)// batch_size\n",
    "\n",
    "# select number of epochs\n",
    "n_epochs = 5"
   ]
  },
  {
   "cell_type": "markdown",
   "id": "baking-twist",
   "metadata": {},
   "source": [
    "### choosing an optimizer"
   ]
  },
  {
   "cell_type": "code",
   "execution_count": 17,
   "id": "difficult-obligation",
   "metadata": {},
   "outputs": [],
   "source": [
    "# build the optimizer object\n",
    "pennylane_opt = qml.AdagradOptimizer(0.3) # GradientDescentOptimizer(0.2) # NesterovMomentumOptimizer(0.3) # QNGOptimizer(0.1,approx=\"block-diag\")"
   ]
  },
  {
   "cell_type": "markdown",
   "id": "prospective-conversion",
   "metadata": {},
   "source": [
    "### weighted loss function, accuracy and final prediction"
   ]
  },
  {
   "cell_type": "code",
   "execution_count": 18,
   "id": "useful-classification",
   "metadata": {},
   "outputs": [],
   "source": [
    "def loss(a, b):\n",
    "    return (a - b)**2\n",
    "\n",
    "def average_loss(theta_weights, theta_bias, data):\n",
    "    c = 0\n",
    "    sumWeights = 0\n",
    "    for x, y in data:\n",
    "        XS   = x[-2:-1]\n",
    "        Nevt = x[-1]\n",
    "        weight = float(XS/Nevt)\n",
    "        prediction = variational_classifier(theta_weights, theta_bias, x[:-2])\n",
    "        #prediction = np.sign(variational_classifier(theta_weights, theta_bias, x))\n",
    "        c += (loss(prediction, y) * weight)\n",
    "        sumWeights += weight\n",
    "    return c/(len(data)*sumWeights)\n",
    "\n",
    "def accuracy(theta_weights, theta_bias, data):\n",
    "    y_pred = []\n",
    "    y_true = []\n",
    "\n",
    "    for x, y in data:\n",
    "        prediction = np.sign(variational_classifier(theta_weights, theta_bias, x[:-2]))\n",
    "        y_pred.append(prediction)\n",
    "        y_true.append(y)\n",
    "\n",
    "    accuracy = metrics.accuracy_score(y_true, y_pred)\n",
    "    return accuracy    \n",
    "\n",
    "# prediction in tensor format for training the quantum circuit\n",
    "def prediction(theta_weights, theta_bias, X):\n",
    "    y_pred = []\n",
    "    for x in X:\n",
    "        prediction = variational_classifier(theta_weights, theta_bias, x[:-2])\n",
    "        y_pred.append(prediction)\n",
    "        \n",
    "    return y_pred\n",
    "\n",
    "# prediction in numpy array format for plotting\n",
    "def prediction_numpy(theta_weights, theta_bias, X):\n",
    "    y_pred = numpy.array([])\n",
    "    for x in X:\n",
    "        #prediction = np.sign(variational_classifier(theta_weights, theta_bias, x[:-2]))\n",
    "        prediction = variational_classifier(theta_weights, theta_bias, x[:-2])\n",
    "        y_pred = numpy.append(y_pred,prediction)\n",
    "        \n",
    "    return y_pred"
   ]
  },
  {
   "cell_type": "markdown",
   "id": "horizontal-involvement",
   "metadata": {},
   "source": [
    "### training"
   ]
  },
  {
   "cell_type": "code",
   "execution_count": 19,
   "id": "governing-finder",
   "metadata": {},
   "outputs": [
    {
     "name": "stdout",
     "output_type": "stream",
     "text": [
      "|████████████████████████████████████████| 405/405 [100%] in 2:22.7 (2.84/s)                                             404/405 [100%] in 2:22 (2.8/s, eta: 1s) \n"
     ]
    }
   ],
   "source": [
    "loss_train  = []\n",
    "loss_val    = []\n",
    "accur_train = []\n",
    "accur_val   = []\n",
    "\n",
    "# train in ordered batches\n",
    "X_batches = np.array_split(np.arange(len(X_train)), batches)\n",
    "with alive_bar(batches*n_epochs,force_tty=True) as bar:\n",
    "    for it , batch_index in enumerate ( chain (*( n_epochs * [ X_batches ]))):\n",
    "        y_train_batch = y_train[batch_index]\n",
    "        X_train_batch = X_train[batch_index]\n",
    "        data_train_batch = list(zip(X_train_batch, y_train_batch))\n",
    "        \n",
    "        ([theta_weights, theta_bias], avg_loss_batch) = pennylane_opt.step_and_cost(\n",
    "            lambda theta_weights_, theta_bias_: average_loss(\n",
    "            theta_weights_, theta_bias_, data_train_batch), theta_weights, theta_bias)\n",
    "\n",
    "        bar()"
   ]
  },
  {
   "cell_type": "code",
   "execution_count": 20,
   "id": "dominant-burton",
   "metadata": {},
   "outputs": [],
   "source": [
    "plotLoss = False\n",
    "\n",
    "if plotLoss:\n",
    "    fig, (ax1, ax2) = plt.subplots(2, 1)\n",
    "    fig.subplots_adjust(hspace = 0.5, wspace=0)\n",
    "    ax1.set_title(\"Loss\")\n",
    "    ax1.plot(loss_train, label=\"train\")\n",
    "    ax1.plot(loss_val, label=\"val\")\n",
    "    ax1.legend(loc=\"upper right\")\n",
    "    ax2.set_title(\"Accuracy\")\n",
    "    ax2.plot(accur_train, label=\"train\")\n",
    "    ax2.plot(accur_val, label=\"val\")\n",
    "    ax2.legend(loc=\"lower right\")"
   ]
  },
  {
   "cell_type": "markdown",
   "id": "indian-satin",
   "metadata": {},
   "source": [
    "### plot ROC"
   ]
  },
  {
   "cell_type": "code",
   "execution_count": 21,
   "id": "stunning-group",
   "metadata": {},
   "outputs": [
    {
     "data": {
      "text/plain": [
       "<matplotlib.legend.Legend at 0x7ff3e9f27fa0>"
      ]
     },
     "execution_count": 21,
     "metadata": {},
     "output_type": "execute_result"
    },
    {
     "data": {
      "image/png": "[encoded data removed]",
      "text/plain": [
       "<Figure size 360x360 with 1 Axes>"
      ]
     },
     "metadata": {
      "needs_background": "light"
     },
     "output_type": "display_data"
    }
   ],
   "source": [
    "plt.rcParams['figure.figsize'] = [5,5]\n",
    "\n",
    "y_pred_train = prediction(theta_weights, theta_bias, X_train)\n",
    "y_pred_test  = prediction(theta_weights, theta_bias, X_test)\n",
    "\n",
    "fpr_train, tpr_train, thresholds_train = metrics.roc_curve(y_train, y_pred_train)\n",
    "fpr, tpr, thresholds = metrics.roc_curve(y_test, y_pred_test)\n",
    "\n",
    "roc_auc_train = metrics.auc(fpr_train,tpr_train)\n",
    "roc_auc = metrics.auc(fpr,tpr)\n",
    "\n",
    "plt.plot(fpr_train,tpr_train, label='AUC_train = %0.3f' % (roc_auc_train))\n",
    "plt.plot(fpr,tpr, label='AUC_test = %0.3f' % (roc_auc))\n",
    "plt.grid()\n",
    "plt.legend(loc=\"lower right\")"
   ]
  },
  {
   "cell_type": "code",
   "execution_count": 22,
   "id": "introductory-luther",
   "metadata": {},
   "outputs": [
    {
     "name": "stdout",
     "output_type": "stream",
     "text": [
      "Acc train: 80.5 % | val: 74.4 % | test: 76.6 %\n"
     ]
    }
   ],
   "source": [
    "# accuracy metrics\n",
    "data_test = list(zip(X_test, y_test))\n",
    "\n",
    "acc_test  = accuracy(theta_weights, theta_bias, data_test)\n",
    "acc_train = accuracy(theta_weights, theta_bias, data_train)\n",
    "acc_val   = accuracy(theta_weights, theta_bias, data_val)\n",
    "\n",
    "print(\"Acc train: {:0.1f} % | val: {:0.1f} % | test: {:0.1f} %\"\n",
    "      \"\".format(acc_train*100, acc_val*100, acc_test*100))"
   ]
  },
  {
   "cell_type": "markdown",
   "id": "constant-documentary",
   "metadata": {},
   "source": [
    "## 4. Comparing quantum VS classical: VQC VS BDT"
   ]
  },
  {
   "cell_type": "markdown",
   "id": "dense-fraction",
   "metadata": {},
   "source": [
    "### classification output from VQC"
   ]
  },
  {
   "cell_type": "code",
   "execution_count": 23,
   "id": "congressional-financing",
   "metadata": {},
   "outputs": [],
   "source": [
    "# classification of the events used in this exercise by the VQC\n",
    "y_sig = prediction_numpy(theta_weights, theta_bias, X[:n_evts])\n",
    "y_bkg = prediction_numpy(theta_weights, theta_bias, X[n_evts:])"
   ]
  },
  {
   "cell_type": "markdown",
   "id": "distinct-board",
   "metadata": {},
   "source": [
    "### classification output from BDT"
   ]
  },
  {
   "cell_type": "code",
   "execution_count": 24,
   "id": "adjacent-specialist",
   "metadata": {},
   "outputs": [],
   "source": [
    "# by the BDT, this one done apriori\n",
    "BDT0 = np.array(sgDict[\"BDT\"][:sg_evts])\n",
    "BDT1 = np.array(bkDict[\"BDT\"][:bk_evts])\n",
    "BDT = np.concatenate([BDT0,BDT1], axis=0)"
   ]
  },
  {
   "cell_type": "code",
   "execution_count": 25,
   "id": "posted-customs",
   "metadata": {},
   "outputs": [
    {
     "data": {
      "text/plain": [
       "<matplotlib.legend.Legend at 0x7ff3eb8983a0>"
      ]
     },
     "execution_count": 25,
     "metadata": {},
     "output_type": "execute_result"
    },
    {
     "data": {
      "image/png": "[encoded data removed]",
      "text/plain": [
       "<Figure size 1080x360 with 3 Axes>"
      ]
     },
     "metadata": {
      "needs_background": "light"
     },
     "output_type": "display_data"
    }
   ],
   "source": [
    "# plotting the prediction vs the real value\n",
    "plt.rcParams['figure.figsize'] = [15,5]\n",
    "\n",
    "fig, (ax1, ax2, ax3) = plt.subplots(1, 3)\n",
    "binning=np.arange(-1,1,0.1)\n",
    "\n",
    "ax1.set_title(\"Ideal\")\n",
    "ax1.hist(Y0, 1, weights=W0, color = \"blue\", alpha=0.25, label=\"Signal\")\n",
    "ax1.hist(Y1, 1, weights=W1, color = \"red\" , alpha=0.25, label=\"Background\")\n",
    "ax1.set_yscale(\"log\")\n",
    "ax1.set_xlim([-1, 1])\n",
    "ax1.legend(loc=\"best\")\n",
    "\n",
    "ax2.set_title(\"VQC\")\n",
    "ax2.hist(y_sig, bins=binning, color = \"blue\", weights=W0, alpha=0.25, label=\"Signal\")\n",
    "ax2.hist(y_bkg, bins=binning, color = \"red\" , weights=W1, alpha=0.25, label=\"Background\")\n",
    "ax2.set_yscale(\"log\")\n",
    "ax2.set_xlim([-1, 1])\n",
    "ax2.legend(loc=\"best\")\n",
    "\n",
    "ax3.set_title(\"BDT\")\n",
    "ax3.hist(BDT0, bins=binning, color = \"blue\", weights=W0, alpha=0.25, label=\"Signal\")\n",
    "ax3.hist(BDT1, bins=binning, color = \"red\" , weights=W1, alpha=0.25, label=\"Background\")\n",
    "ax3.set_yscale(\"log\")\n",
    "ax3.set_xlim([-1, 1])\n",
    "ax3.legend(loc=\"best\")"
   ]
  },
  {
   "cell_type": "markdown",
   "id": "identified-battlefield",
   "metadata": {},
   "source": [
    "### comparing ROCs"
   ]
  },
  {
   "cell_type": "code",
   "execution_count": 26,
   "id": "documentary-answer",
   "metadata": {},
   "outputs": [
    {
     "data": {
      "text/plain": [
       "<matplotlib.legend.Legend at 0x7ff3fc33efd0>"
      ]
     },
     "execution_count": 26,
     "metadata": {},
     "output_type": "execute_result"
    },
    {
     "data": {
      "image/png": "[encoded data removed]",
      "text/plain": [
       "<Figure size 360x360 with 1 Axes>"
      ]
     },
     "metadata": {
      "needs_background": "light"
     },
     "output_type": "display_data"
    }
   ],
   "source": [
    "fpr_BDT, tpr_BDT, thresholds_BDT = metrics.roc_curve(Y, BDT)\n",
    "\n",
    "roc_auc_BDT = metrics.auc(fpr_BDT,tpr_BDT)\n",
    "\n",
    "plt.rcParams['figure.figsize'] = [5,5]\n",
    "\n",
    "plt.plot(fpr,tpr, color = \"blue\", label='AUC_VQC = %0.3f' % (roc_auc))\n",
    "plt.plot(fpr_BDT,tpr_BDT, color = \"red\", label='AUC_BDT = %0.3f' % (roc_auc_BDT))\n",
    "plt.grid()\n",
    "plt.legend(loc=\"lower right\")"
   ]
  },
  {
   "cell_type": "markdown",
   "id": "statewide-nation",
   "metadata": {},
   "source": [
    "### Figure of Metric (FOM)"
   ]
  },
  {
   "cell_type": "markdown",
   "id": "respective-extreme",
   "metadata": {},
   "source": [
    "Until now, it's not obvious which algorithm is better and the overall impact of using it in the search for supersymmetry. We need to build a function that takes as inputs the <font color='blue'>signal</font> and <font color='red'>background</font> yield precicted by placig a 1-D cut on the output our machine learning algorithm (remember, this type of methods take N-Dimensional variables and translate them into a 1-D output). In experimental particle physics we call this funtion a Figure of Metric(FOM):\n",
    "\n",
    "$ FOM = \\sqrt{2((S+B)ln(\\frac{(S+B)\\cdot(B+\\sigma_B^2)}{B^2+(S+B)\\cdot\\sigma_B^2})-\\frac{B^2}{\\sigma_B^2}ln(1+\\frac{\\sigma_B^2\\cdot S}{B\\cdot(B+\\sigma_B^2)}))}$\n"
   ]
  },
  {
   "cell_type": "code",
   "execution_count": 27,
   "id": "exceptional-consequence",
   "metadata": {},
   "outputs": [],
   "source": [
    "# Signal test events \n",
    "sgDict_test = {\n",
    "    \"VQC\": y_sig,\n",
    "    \"BDT\": sgDict[\"BDT\"][:sg_evts],\n",
    "    \"weight\": sgW[:sg_evts]\n",
    "}\n",
    "\n",
    "sgDF_test = pd.DataFrame(sgDict_test)\n",
    "\n",
    "sg_sf = 2 * len(sgDF_test) / len(sgDF)\n",
    "\n",
    "# Background test events \n",
    "bkDict_test = {\n",
    "    \"VQC\": y_bkg,\n",
    "    \"BDT\": bkDict[\"BDT\"][:bk_evts],\n",
    "    \"weight\": bkW[:bk_evts]\n",
    "}\n",
    "\n",
    "bkDF_test = pd.DataFrame(bkDict_test)\n",
    "\n",
    "bk_sf = 2 * len(bkDF_test) / len(bkDF)"
   ]
  },
  {
   "cell_type": "code",
   "execution_count": 28,
   "id": "fifth-saskatchewan",
   "metadata": {},
   "outputs": [],
   "source": [
    "# measure the process yield as a function of the ML cut\n",
    "def getYield(dataPD, ml=\"VQC\", cut=0.0, luminosity=41479, splitfactor=2):\n",
    "    if ml == \"VQC\":\n",
    "        selEvents = dataPD[dataPD.VQC>cut]\n",
    "    elif ml == \"BDT\":\n",
    "        selEvents = dataPD[dataPD.BDT>cut]\n",
    "    \n",
    "    Yield = selEvents.weight.sum() * luminosity * splitfactor\n",
    "    YieldUnc = np.sqrt(np.sum(np.square(selEvents.weight))) * luminosity * splitfactor\n",
    "    \n",
    "    return Yield, YieldUnc"
   ]
  },
  {
   "cell_type": "code",
   "execution_count": 29,
   "id": "black-binding",
   "metadata": {},
   "outputs": [],
   "source": [
    "# FOM as a function of the signal and background yields for different ML output cuts\n",
    "def FOM(signal, background, f=0.20):\n",
    "    s, sErr = signal\n",
    "    b, bErr = background\n",
    "    if b == 0: b=0.0001 # check if NaN => TODO: fix this hack\n",
    "    sigmaB2 = (f*b)**2  # we set the relative uncertainty of the background yield\n",
    "                        # to be 20%: f=0.20       \n",
    "    term1 = (s+b)*log(((s+b)*(b+sigmaB2))/(b**2+(s+b)*sigmaB2))\n",
    "    term2 = b**2/sigmaB2*log(1+(sigmaB2*s)/(b*(b+sigmaB2)))\n",
    "\n",
    "    fom = (2*term1-term2)**0.5\n",
    "    \n",
    "    return fom"
   ]
  },
  {
   "cell_type": "markdown",
   "id": "former-bacteria",
   "metadata": {},
   "source": [
    "Now, we want to see how the FOM evolves as a function of the ML output for both methods and compare them."
   ]
  },
  {
   "cell_type": "code",
   "execution_count": 30,
   "id": "domestic-comedy",
   "metadata": {},
   "outputs": [],
   "source": [
    "# compute fom as a function of ML cut\n",
    "cuts = numpy.arange(-0.4, 0.4, 0.01)\n",
    "\n",
    "fomEvo_vqc = []\n",
    "sgEff_vqc = []\n",
    "bkEff_vqc = []\n",
    "sgYield_vqc_init = getYield(sgDF_test, \"VQC\", cuts[0], splitfactor=sg_sf)[0]\n",
    "bkYield_vqc_init = getYield(bkDF_test, \"VQC\", cuts[0], splitfactor=sg_sf)[0]\n",
    "\n",
    "fomEvo_bdt = []\n",
    "sgEff_bdt = []\n",
    "bkEff_bdt = []\n",
    "sgYield_bdt_init = getYield(sgDF_test, \"BDT\", cuts[0], splitfactor=sg_sf)[0]\n",
    "bkYield_bdt_init = getYield(bkDF_test, \"BDT\", cuts[0], splitfactor=sg_sf)[0]\n",
    "\n",
    "for cut in cuts:\n",
    "    sgYield_vqc = getYield(sgDF_test, \"VQC\", cut, splitfactor=sg_sf)\n",
    "    bkYield_vqc = getYield(bkDF_test, \"VQC\", cut, splitfactor=sg_sf)\n",
    "    fom_vqc = FOM(sgYield_vqc, bkYield_vqc)\n",
    "    fomEvo_vqc.append(fom_vqc)\n",
    "    sgEff_vqc.append(sgYield_vqc[0]/sgYield_vqc_init)\n",
    "    bkEff_vqc.append(bkYield_vqc[0]/bkYield_vqc_init)\n",
    "    \n",
    "    sgYield_bdt = getYield(sgDF_test, \"BDT\", cut, splitfactor=sg_sf)\n",
    "    bkYield_bdt = getYield(bkDF_test, \"BDT\", cut, splitfactor=bk_sf)\n",
    "    fom_bdt = FOM(sgYield_bdt, bkYield_bdt)\n",
    "    fomEvo_bdt.append(fom_bdt)\n",
    "    sgEff_bdt.append(sgYield_bdt[0]/sgYield_bdt_init)\n",
    "    bkEff_bdt.append(bkYield_bdt[0]/bkYield_bdt_init)"
   ]
  },
  {
   "cell_type": "code",
   "execution_count": 31,
   "id": "exempt-utilization",
   "metadata": {},
   "outputs": [
    {
     "data": {
      "text/plain": [
       "<matplotlib.legend.Legend at 0x7ff3e6a2e220>"
      ]
     },
     "execution_count": 31,
     "metadata": {},
     "output_type": "execute_result"
    },
    {
     "data": {
      "image/png": "[encoded data removed]",
      "text/plain": [
       "<Figure size 1080x360 with 2 Axes>"
      ]
     },
     "metadata": {
      "needs_background": "light"
     },
     "output_type": "display_data"
    }
   ],
   "source": [
    "# plot efficiencies\n",
    "plt.rcParams['figure.figsize'] = [15,5]\n",
    "\n",
    "fig, (ax1, ax2) = plt.subplots(1, 2)\n",
    "\n",
    "ax1.set_title(\"VQC\")\n",
    "ax1.plot(cuts,sgEff_vqc, color = \"green\", label=\"Signal\")\n",
    "ax1.plot(cuts,bkEff_vqc, color = \"orange\", label=\"Background\")\n",
    "ax1.set_xlabel(\"FOM >\")\n",
    "ax1.set_yscale(\"log\")\n",
    "ax1.grid()\n",
    "ax1.legend(loc='best')\n",
    "\n",
    "ax2.set_title(\"BDT\")\n",
    "ax2.plot(cuts,sgEff_bdt, color = \"green\", label=\"Signal\")\n",
    "ax2.plot(cuts,bkEff_bdt, color = \"orange\", label=\"Background\")\n",
    "ax2.set_xlabel(\"FOM >\")\n",
    "ax2.set_yscale(\"log\")\n",
    "ax2.grid()\n",
    "ax2.legend(loc='best')"
   ]
  },
  {
   "cell_type": "code",
   "execution_count": 32,
   "id": "organized-ozone",
   "metadata": {},
   "outputs": [
    {
     "data": {
      "image/png": "[encoded data removed]",
      "text/plain": [
       "<Figure size 1080x360 with 1 Axes>"
      ]
     },
     "metadata": {
      "needs_background": "light"
     },
     "output_type": "display_data"
    }
   ],
   "source": [
    "# plot fom\n",
    "plt.title(\"FOM\")\n",
    "plt.plot(cuts,fomEvo_vqc, color = \"blue\", label=\"VQC\")\n",
    "plt.plot(cuts,fomEvo_bdt, color = \"red\", label=\"BDT\")\n",
    "plt.xlabel(\"FOM >\")\n",
    "plt.legend(loc='upper left')\n",
    "plt.grid()"
   ]
  },
  {
   "cell_type": "markdown",
   "id": "normal-artist",
   "metadata": {},
   "source": [
    "## 6. Conclusions"
   ]
  },
  {
   "cell_type": "markdown",
   "id": "sharp-european",
   "metadata": {},
   "source": []
  },
  {
   "cell_type": "markdown",
   "id": "nutritional-chess",
   "metadata": {},
   "source": [
    "### References\n",
    "\n",
    "https://arxiv.org/abs/1804.00633\n",
    "\n",
    "https://conference.ippp.dur.ac.uk/event/929/attachments/3968/4559/piotr_gawron_quantum_neural_networks.pdf\n",
    "\n",
    "https://pennylane.ai/qml/demos/tutorial_variational_classifier.html\n",
    "\n",
    "https://youtu.be/YtepXvx5zdI\n",
    "\n",
    "Images from: https://indico.cern.ch/event/975609/attachments/2183541/3688998/seminar_slides.pdf"
   ]
  },
  {
   "cell_type": "markdown",
   "id": "ranging-slave",
   "metadata": {},
   "source": [
    "### some testing..."
   ]
  },
  {
   "cell_type": "code",
   "execution_count": 33,
   "id": "qualified-chemistry",
   "metadata": {},
   "outputs": [
    {
     "data": {
      "text/plain": [
       "(17.297969572407997, 0.9206782111315684)"
      ]
     },
     "execution_count": 33,
     "metadata": {},
     "output_type": "execute_result"
    }
   ],
   "source": [
    "sgYield_vqc = getYield(sgDF_test, \"VQC\", -0.1, splitfactor=sg_sf)\n",
    "sgYield_vqc"
   ]
  },
  {
   "cell_type": "code",
   "execution_count": 34,
   "id": "alone-vacation",
   "metadata": {
    "scrolled": true
   },
   "outputs": [
    {
     "data": {
      "text/plain": [
       "(7.559924638502773, 1.3364184618587773)"
      ]
     },
     "execution_count": 34,
     "metadata": {},
     "output_type": "execute_result"
    }
   ],
   "source": [
    "bkYield_vqc = getYield(bkDF_test, \"VQC\", -0.1, splitfactor=sg_sf)\n",
    "bkYield_vqc"
   ]
  },
  {
   "cell_type": "code",
   "execution_count": 35,
   "id": "automated-satisfaction",
   "metadata": {},
   "outputs": [
    {
     "data": {
      "text/plain": [
       "(22.73727321818199, 1.055551633849779)"
      ]
     },
     "execution_count": 35,
     "metadata": {},
     "output_type": "execute_result"
    }
   ],
   "source": [
    "sgYield_bdt = getYield(sgDF_test, \"BDT\", -0.1, splitfactor=sg_sf)\n",
    "sgYield_bdt"
   ]
  },
  {
   "cell_type": "code",
   "execution_count": 36,
   "id": "distinguished-patrick",
   "metadata": {},
   "outputs": [
    {
     "data": {
      "text/plain": [
       "(10.645114125760635, 0.778447879928065)"
      ]
     },
     "execution_count": 36,
     "metadata": {},
     "output_type": "execute_result"
    }
   ],
   "source": [
    "bkYield_bdt = getYield(bkDF_test, \"BDT\", -0.1, splitfactor=bk_sf)\n",
    "bkYield_bdt"
   ]
  },
  {
   "cell_type": "code",
   "execution_count": 37,
   "id": "white-defeat",
   "metadata": {},
   "outputs": [
    {
     "data": {
      "text/plain": [
       "5.228901553871465"
      ]
     },
     "execution_count": 37,
     "metadata": {},
     "output_type": "execute_result"
    }
   ],
   "source": [
    "FOM(sgYield_vqc, bkYield_vqc)"
   ]
  },
  {
   "cell_type": "code",
   "execution_count": 38,
   "id": "cognitive-steam",
   "metadata": {},
   "outputs": [
    {
     "data": {
      "text/plain": [
       "5.570489417646349"
      ]
     },
     "execution_count": 38,
     "metadata": {},
     "output_type": "execute_result"
    }
   ],
   "source": [
    "FOM(sgYield_bdt, bkYield_bdt)"
   ]
  }
 ],
 "metadata": {
  "kernelspec": {
   "display_name": "Python 3",
   "language": "python",
   "name": "python3"
  },
  "language_info": {
   "codemirror_mode": {
    "name": "ipython",
    "version": 3
   },
   "file_extension": ".py",
   "mimetype": "text/x-python",
   "name": "python",
   "nbconvert_exporter": "python",
   "pygments_lexer": "ipython3",
   "version": "3.8.5"
  }
 },
 "nbformat": 4,
 "nbformat_minor": 5
}
